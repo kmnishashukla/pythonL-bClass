{
 "cells": [
  {
   "cell_type": "markdown",
   "metadata": {},
   "source": [
    "What is Data Analytics?\n",
    "\n",
    "Data analytics is the science of analyzing raw data to find trends and answer questions.\n",
    "\n",
    "Note:Raw Data means uncleaned data means we need to clean data like null values for our business growth."
   ]
  }
 ],
 "metadata": {
  "language_info": {
   "name": "python"
  }
 },
 "nbformat": 4,
 "nbformat_minor": 2
}
