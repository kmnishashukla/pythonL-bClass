{
 "cells": [
  {
   "cell_type": "markdown",
   "metadata": {},
   "source": [
    "1.\n",
    "Scenario: You are working with a list of numbers and need to create a new list that contains\n",
    "only the even numbers from the original list.\n",
    "Question: Write a Python oneliner using list comprehension to create a new list containing\n",
    "only the even numbers from the list `[1, 2, 3, 4, 5, 6, 7, 8, 9, 10]`."
   ]
  },
  {
   "cell_type": "code",
   "execution_count": 1,
   "metadata": {},
   "outputs": [
    {
     "data": {
      "text/plain": [
       "[2, 4, 6, 8, 10]"
      ]
     },
     "execution_count": 1,
     "metadata": {},
     "output_type": "execute_result"
    }
   ],
   "source": [
    "l1 = [1, 2, 3, 4, 5, 6, 7, 8, 9, 10]\n",
    "l2 = [x for x in l1 if x&1==0]\n",
    "l2"
   ]
  },
  {
   "cell_type": "markdown",
   "metadata": {},
   "source": [
    "2.\n",
    "Scenario: You are creating a class representing a person and want to customize the string\n",
    "representation of the object.\n",
    "Question: Define a class Person with attributes name, age, and gender. Implement the\n",
    "__str__ method to return a string in the format \"Name: {name}, Age: {age}, Gender: {gender}\""
   ]
  },
  {
   "cell_type": "code",
   "execution_count": 14,
   "metadata": {},
   "outputs": [
    {
     "name": "stdout",
     "output_type": "stream",
     "text": [
      "Name: Jai, Age: 22, Gender: male\n"
     ]
    }
   ],
   "source": [
    "class person_class:\n",
    "    def __init__(self, person_name, person_age, person_gender):\n",
    "        self.personName = person_name  # data member\n",
    "        self.personAge = person_age  # data member\n",
    "        self.personGender = person_gender  # data member\n",
    "    \n",
    "    def __str__(self): #member function \n",
    "        return \"Name: {}, Age: {}, Gender: {}\".format(self.personName, self.personAge, self.personGender)\n",
    "\n",
    "person = person_class(\"Jai\",22,\"male\") # creating of an object\n",
    "print(person)  \n",
    "\n",
    "\n",
    "\n"
   ]
  },
  {
   "cell_type": "markdown",
   "metadata": {},
   "source": [
    "3.\n",
    "Scenario: You are building a Python script to fetch data from a REST API and process the\n",
    "results.\n",
    "Question: Write a Python function that uses the `requests` library to make a GET request to\n",
    "the URL `https://api.example.com/data` and returns the JSON response.\n"
   ]
  },
  {
   "cell_type": "code",
   "execution_count": 3,
   "metadata": {},
   "outputs": [
    {
     "name": "stdout",
     "output_type": "stream",
     "text": [
      "An error occurred: 406 Client Error: Not Acceptable for url: https://dummy.restapiexample.com/api/v1/employees\n",
      "Failed to retrieve data.\n"
     ]
    }
   ],
   "source": [
    "import requests\n",
    "\n",
    "def fetchAPIdata():\n",
    "    API_url = 'https://dummy.restapiexample.com/api/v1/employees'\n",
    "    \n",
    "    try:\n",
    "        response = requests.get(API_url)\n",
    "        response.raise_for_status()  \n",
    "        json_data = response.json()  \n",
    "        return json_data\n",
    "    except requests.exceptions.RequestException as e:\n",
    "        print(f\"An error occurred: {e}\")\n",
    "        return None\n",
    "\n",
    "\n",
    "if __name__ == \"__main__\":\n",
    "    data = fetchAPIdata()\n",
    "    if data:\n",
    "        print(data)\n",
    "    else:\n",
    "        print(\"Failed to retrieve data.\")\n"
   ]
  },
  {
   "cell_type": "markdown",
   "metadata": {},
   "source": [
    "4.\n",
    "Scenario: You are working with a list of strings and need to sort them based on their lengths.\n",
    "Question: Write a Python lambda function to use as the `key` parameter in the `sorted`\n",
    "function to sort the list `['apple', 'banana', 'cherry', 'date']` based on the length of each string."
   ]
  },
  {
   "cell_type": "code",
   "execution_count": 7,
   "metadata": {},
   "outputs": [
    {
     "name": "stdout",
     "output_type": "stream",
     "text": [
      "<class 'list'>\n"
     ]
    },
    {
     "data": {
      "text/plain": [
       "['apple', 'banana', 'cherry', 'date']"
      ]
     },
     "execution_count": 7,
     "metadata": {},
     "output_type": "execute_result"
    }
   ],
   "source": [
    "l1 = ['apple', 'banana', 'cherry', 'date']\n",
    "print(type(l1))\n",
    "listLength = len(l1)\n",
    "sortedListData = sorted(l1, key=lambda x: listLength)\n",
    "sortedListData"
   ]
  },
  {
   "cell_type": "markdown",
   "metadata": {},
   "source": [
    "5.\n",
    "Scenario: You are creating a set of classes to represent different types of vehicles. You have a\n",
    "base class `Vehicle` and subclasses `Car`, `Truck`, and `Motorcycle`.\n",
    "Question: Define the `Vehicle` class with a method `drive` that prints \"Driving a vehicle.\"\n",
    "Then, define the subclasses `Car`, `Truck`, and `Motorcycle`, each with their own `drive` method that\n",
    "prints a message specific to that type of vehicle."
   ]
  },
  {
   "cell_type": "code",
   "execution_count": 15,
   "metadata": {},
   "outputs": [
    {
     "name": "stdout",
     "output_type": "stream",
     "text": [
      "Driving a car.\n",
      "Driving a truck.\n",
      "Driving a motorcycle.\n"
     ]
    }
   ],
   "source": [
    "class vehicle_class:\n",
    "    def drive(self):\n",
    "        print(\"Driving a vehicle\")\n",
    "\n",
    "class Car(vehicle_class):\n",
    "    def drive(self):\n",
    "        print(\"Driving a car vehicle\")\n",
    "\n",
    "class Truck(vehicle_class):\n",
    "    def drive(self):\n",
    "        print(\"Driving a truck vehicle\")\n",
    "\n",
    "class Motorcycle(vehicle_class):\n",
    "    def drive(self):\n",
    "        print(\"Driving a motorcycle vehicle\")\n",
    "\n",
    "typeOfVehicles = [Car(), Truck(), Motorcycle()]\n",
    "for vehicle in typeOfVehicles:\n",
    "    vehicle.drive()"
   ]
  }
 ],
 "metadata": {
  "kernelspec": {
   "display_name": "Python 3",
   "language": "python",
   "name": "python3"
  },
  "language_info": {
   "codemirror_mode": {
    "name": "ipython",
    "version": 3
   },
   "file_extension": ".py",
   "mimetype": "text/x-python",
   "name": "python",
   "nbconvert_exporter": "python",
   "pygments_lexer": "ipython3",
   "version": "3.11.4"
  }
 },
 "nbformat": 4,
 "nbformat_minor": 2
}
