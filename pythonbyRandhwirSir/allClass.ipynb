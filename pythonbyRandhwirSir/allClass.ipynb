{
 "cells": [
  {
   "cell_type": "markdown",
   "metadata": {},
   "source": [
    "Python:\n",
    "    \n",
    "    Python general purpose high level programming language.\n",
    "    Object oriented programming\n",
    "    language with dynamic semantics\n",
    "    syntax easy as compare to any other language\n",
    "    Interpreted Programming Language\n",
    "\n",
    "Introduction:\n",
    "    \n",
    "    Guido Van Rassum in 1989 first version introduces in 1994,(NRI)\n",
    "    National Research Institude , Netherland.\n",
    "\n",
    "    BBC(British Broadcase Channel) Months Python Flying Circus.\n"
   ]
  },
  {
   "cell_type": "code",
   "execution_count": 2,
   "metadata": {},
   "outputs": [
    {
     "name": "stdout",
     "output_type": "stream",
     "text": [
      "hii\n",
      "Hello How are you\n",
      "hi\n",
      "how are you\n",
      "30\n",
      "False\n",
      "10\n",
      "10\n"
     ]
    }
   ],
   "source": [
    "print(\"hii\")\n",
    "print(\"Hello\",\"How are you\")\n",
    "print(\"hi\\nhow are you\")\n",
    "print(10+20)\n",
    "print(10>20)\n",
    "print(\"10\")\n",
    "print(10)"
   ]
  },
  {
   "cell_type": "markdown",
   "metadata": {},
   "source": [
    "Variables:\n",
    "\n",
    "Variable is name which is use to store the values."
   ]
  },
  {
   "cell_type": "code",
   "execution_count": 3,
   "metadata": {},
   "outputs": [
    {
     "name": "stdout",
     "output_type": "stream",
     "text": [
      "140706929173576\n",
      "140706929173288\n"
     ]
    }
   ],
   "source": [
    "a=10\n",
    "b=1\n",
    "print(id(a))\n",
    "print(id(b))"
   ]
  },
  {
   "cell_type": "markdown",
   "metadata": {},
   "source": [
    "Operators:\n",
    "\n",
    "     Operators are special symbols which is used to perform some specific operation\n",
    "\n",
    "     Airthmatic Operators: +,-,*,/,//,%,**\n",
    "     Assignment Operators:\n",
    "     Comparision Operators:\n",
    "     Membership Operators:\n",
    "     Bitwise Operatord:\n",
    "     "
   ]
  },
  {
   "cell_type": "code",
   "execution_count": 4,
   "metadata": {},
   "outputs": [
    {
     "name": "stdout",
     "output_type": "stream",
     "text": [
      "30\n",
      "-10\n",
      "200\n",
      "0.5\n",
      "10\n",
      "0\n",
      "100000000000000000000\n"
     ]
    }
   ],
   "source": [
    "a=10\n",
    "b=20\n",
    "print(a+b)\n",
    "print(a-b)\n",
    "print(a*b)\n",
    "print(a/b)\n",
    "print(a%b) #modules\n",
    "print(a//b) # flor divison\n",
    "print(a**b)#exponent operator\n"
   ]
  },
  {
   "cell_type": "code",
   "execution_count": 5,
   "metadata": {},
   "outputs": [
    {
     "name": "stdout",
     "output_type": "stream",
     "text": [
      "False\n",
      "True\n",
      "True\n",
      "True\n",
      "True\n"
     ]
    }
   ],
   "source": [
    "print(10>11)\n",
    "print(10>=10)\n",
    "print(10<11)\n",
    "print(10<=11)\n",
    "print(10==10)"
   ]
  },
  {
   "cell_type": "code",
   "execution_count": 6,
   "metadata": {},
   "outputs": [
    {
     "name": "stdout",
     "output_type": "stream",
     "text": [
      "False\n",
      "True\n",
      "False\n"
     ]
    }
   ],
   "source": [
    "print(5>10 and 5<10)\n",
    "print(5>10 or 5<10)\n",
    "print(not(5>10 or 5<10))"
   ]
  },
  {
   "cell_type": "code",
   "execution_count": 7,
   "metadata": {},
   "outputs": [
    {
     "name": "stdout",
     "output_type": "stream",
     "text": [
      "True\n"
     ]
    }
   ],
   "source": [
    "name = 'nisha'\n",
    "print('ni' in name)"
   ]
  },
  {
   "cell_type": "code",
   "execution_count": 8,
   "metadata": {},
   "outputs": [
    {
     "name": "stdout",
     "output_type": "stream",
     "text": [
      "2\n",
      "10\n",
      "8\n"
     ]
    }
   ],
   "source": [
    "print(10&2)\n",
    "print(10|2)\n",
    "print(10^2)"
   ]
  },
  {
   "cell_type": "markdown",
   "metadata": {},
   "source": [
    "Data Types:\n",
    "\n",
    "       Numeric:integer ,float ,complex\n",
    "       Sequence/Order:string,list,tuple\n",
    "       unorder:set,dictionary "
   ]
  },
  {
   "cell_type": "code",
   "execution_count": 9,
   "metadata": {},
   "outputs": [
    {
     "name": "stdout",
     "output_type": "stream",
     "text": [
      "<class 'int'>\n",
      "<class 'float'>\n",
      "<class 'complex'>\n"
     ]
    }
   ],
   "source": [
    "a=10 #integer\n",
    "b=2.2 #float\n",
    "c=1+2j #complex\n",
    "print(type(a))\n",
    "print(type(b))\n",
    "print(type(c))"
   ]
  },
  {
   "cell_type": "code",
   "execution_count": 10,
   "metadata": {},
   "outputs": [
    {
     "name": "stdout",
     "output_type": "stream",
     "text": [
      "Real number is c: 1.0\n",
      "Imaginary number in c: 2.0\n"
     ]
    }
   ],
   "source": [
    "print(\"Real number is c:\",c.real)\n",
    "print(\"Imaginary number in c:\",c.imag)"
   ]
  },
  {
   "cell_type": "code",
   "execution_count": 11,
   "metadata": {},
   "outputs": [
    {
     "name": "stdout",
     "output_type": "stream",
     "text": [
      "hello how are you? hello how you?\n"
     ]
    }
   ],
   "source": [
    "st=\"hello how are you?\"\n",
    "st1='hello how you?'\n",
    "print(st,st1)"
   ]
  },
  {
   "cell_type": "code",
   "execution_count": 12,
   "metadata": {},
   "outputs": [
    {
     "name": "stdout",
     "output_type": "stream",
     "text": [
      "hello how are you?\n",
      "hello how's your life? i am good\n"
     ]
    }
   ],
   "source": [
    "st1='''hello how's your life? i am good'''\n",
    "print(st)\n",
    "print(st1)"
   ]
  },
  {
   "cell_type": "code",
   "execution_count": 13,
   "metadata": {},
   "outputs": [
    {
     "data": {
      "text/plain": [
       "10"
      ]
     },
     "execution_count": 13,
     "metadata": {},
     "output_type": "execute_result"
    }
   ],
   "source": [
    "st=\"hello how are you?\"\n",
    "st1='''hello how's your life? i am good'''\n",
    "st.find(\"a\")\n"
   ]
  },
  {
   "cell_type": "code",
   "execution_count": 14,
   "metadata": {},
   "outputs": [
    {
     "name": "stdout",
     "output_type": "stream",
     "text": [
      "hello how are you?\n",
      "25\n",
      "Hello how are you?\n"
     ]
    },
    {
     "data": {
      "text/plain": [
       "False"
      ]
     },
     "execution_count": 14,
     "metadata": {},
     "output_type": "execute_result"
    }
   ],
   "source": [
    "st=\"hello how are you?\"\n",
    "st1='''hello how's your life? i am good'''\n",
    "print(st)\n",
    "print(st1.find(\"a\"))\n",
    "print(st.capitalize())\n",
    "st.replace(\"how\",\"hii\")\n",
    "st.isalpha()"
   ]
  },
  {
   "cell_type": "code",
   "execution_count": 17,
   "metadata": {},
   "outputs": [
    {
     "name": "stdout",
     "output_type": "stream",
     "text": [
      "True\n"
     ]
    },
    {
     "ename": "AttributeError",
     "evalue": "'str' object has no attribute 'isuper'",
     "output_type": "error",
     "traceback": [
      "\u001b[1;31m---------------------------------------------------------------------------\u001b[0m",
      "\u001b[1;31mAttributeError\u001b[0m                            Traceback (most recent call last)",
      "Cell \u001b[1;32mIn[17], line 5\u001b[0m\n\u001b[0;32m      3\u001b[0m st2\u001b[38;5;241m=\u001b[39m\u001b[38;5;124m\"\u001b[39m\u001b[38;5;124mtakfds\u001b[39m\u001b[38;5;124m\"\u001b[39m\n\u001b[0;32m      4\u001b[0m \u001b[38;5;28mprint\u001b[39m(st2\u001b[38;5;241m.\u001b[39misalpha())\n\u001b[1;32m----> 5\u001b[0m \u001b[43mst1\u001b[49m\u001b[38;5;241;43m.\u001b[39;49m\u001b[43misuper\u001b[49m()\n",
      "\u001b[1;31mAttributeError\u001b[0m: 'str' object has no attribute 'isuper'"
     ]
    }
   ],
   "source": [
    "st=\"hello how are you?\"\n",
    "st1='''hello how's your life? i am good'''\n",
    "st2=\"takfds\"\n",
    "print(st2.isalpha())\n",
    "st1.isuper()"
   ]
  },
  {
   "cell_type": "code",
   "execution_count": 18,
   "metadata": {},
   "outputs": [
    {
     "name": "stdout",
     "output_type": "stream",
     "text": [
      "True\n"
     ]
    },
    {
     "data": {
      "text/plain": [
       "'Ihello how are you? hello how are you?ahello how are you?mhello how are you? hello how are you?nhello how are you?ohello how are you?thello how are you? hello how are you?fhello how are you?ihello how are you?nhello how are you?ehello how are you?.'"
      ]
     },
     "execution_count": 18,
     "metadata": {},
     "output_type": "execute_result"
    }
   ],
   "source": [
    "st = \"hello how are you?\"\n",
    "st1 = '''hello how's your life? i am good'''\n",
    "st2=\"takfds\"\n",
    "print(st2.isalpha())\n",
    "st.join(\"I am not fine.\")"
   ]
  },
  {
   "cell_type": "code",
   "execution_count": 19,
   "metadata": {},
   "outputs": [
    {
     "name": "stdout",
     "output_type": "stream",
     "text": [
      "1hello how are you?2hello how are you?3hello how are you?4hello how are you?5\n"
     ]
    }
   ],
   "source": [
    "st=\"hello how are you?\"\n",
    "print(st.join(\"12345\"))"
   ]
  },
  {
   "cell_type": "markdown",
   "metadata": {},
   "source": [
    "List:\n",
    "\n",
    "  Is a order sequence of items\n",
    "  It is one of most used datatype in Python\n",
    "  it is mutable in nature\n",
    "  It store different type of values like int,float,string,list etc."
   ]
  },
  {
   "cell_type": "code",
   "execution_count": 20,
   "metadata": {},
   "outputs": [
    {
     "name": "stdout",
     "output_type": "stream",
     "text": [
      "[1, 2, 3, 'randhir', 'raj', 11.1]\n",
      "<class 'list'>\n"
     ]
    }
   ],
   "source": [
    "l=[1,2,3,'randhir','raj',11.1]\n",
    "print(l)\n",
    "print(type(l))"
   ]
  },
  {
   "cell_type": "code",
   "execution_count": 21,
   "metadata": {},
   "outputs": [
    {
     "data": {
      "text/plain": [
       "'randhir'"
      ]
     },
     "execution_count": 21,
     "metadata": {},
     "output_type": "execute_result"
    }
   ],
   "source": [
    "l[3]"
   ]
  },
  {
   "cell_type": "code",
   "execution_count": 22,
   "metadata": {},
   "outputs": [
    {
     "data": {
      "text/plain": [
       "False"
      ]
     },
     "execution_count": 22,
     "metadata": {},
     "output_type": "execute_result"
    }
   ],
   "source": [
    "l[1]>l[2]"
   ]
  },
  {
   "cell_type": "code",
   "execution_count": 26,
   "metadata": {},
   "outputs": [
    {
     "data": {
      "text/plain": [
       "[1, 2, 3, 'ranveer', 'raj', 11.1, 'ranbir', 'ranbir', 'ranbir', 'ranbir']"
      ]
     },
     "execution_count": 26,
     "metadata": {},
     "output_type": "execute_result"
    }
   ],
   "source": [
    "l.append('ranbir')\n",
    "l[3] = 'ranveer'\n",
    "l"
   ]
  },
  {
   "cell_type": "code",
   "execution_count": 27,
   "metadata": {},
   "outputs": [
    {
     "name": "stdout",
     "output_type": "stream",
     "text": [
      "[1, 2, 3, 'ranveer', 'raj', 11.1, 'ranbir', 'ranbir', 'ranbir', 'ranbir', 10, 11, 12, 'rajvee']\n"
     ]
    }
   ],
   "source": [
    "l1=[10,11,12,'rajvee']\n",
    "l.extend(l1)\n",
    "print(l)"
   ]
  },
  {
   "cell_type": "code",
   "execution_count": 28,
   "metadata": {},
   "outputs": [
    {
     "name": "stdout",
     "output_type": "stream",
     "text": [
      "[1, 2, 3, 'ranveer', 'raj', 11.1, 'ranbir', 'ranbir', 'ranbir', 'ranbir', 10, 11, 12, 'rajvee', 10, 11, 12, 'rajvee']\n"
     ]
    }
   ],
   "source": [
    "l.extend(l1)\n",
    "print(l)"
   ]
  },
  {
   "cell_type": "code",
   "execution_count": 31,
   "metadata": {},
   "outputs": [
    {
     "data": {
      "text/plain": [
       "[1,\n",
       " 2,\n",
       " 3,\n",
       " 'ranveer',\n",
       " 'raj',\n",
       " 'ranbir',\n",
       " 'ranbir',\n",
       " 10,\n",
       " 11,\n",
       " 12,\n",
       " 'rajvee',\n",
       " 10,\n",
       " 11,\n",
       " 12,\n",
       " 'rajvee']"
      ]
     },
     "execution_count": 31,
     "metadata": {},
     "output_type": "execute_result"
    }
   ],
   "source": [
    "p=l.pop(5)\n",
    "p\n",
    "l\n"
   ]
  },
  {
   "cell_type": "code",
   "execution_count": 32,
   "metadata": {},
   "outputs": [
    {
     "name": "stdout",
     "output_type": "stream",
     "text": [
      "temoved element ranbir\n",
      "New list: [1, 2, 3, 'ranveer', 'raj', 'ranbir', 10, 11, 12, 'rajvee', 10, 11, 12, 'rajvee']\n"
     ]
    }
   ],
   "source": [
    "n=l.pop(6)\n",
    "print(\"temoved element\",n)\n",
    "print(\"New list:\",l)"
   ]
  },
  {
   "cell_type": "code",
   "execution_count": 33,
   "metadata": {},
   "outputs": [
    {
     "name": "stdout",
     "output_type": "stream",
     "text": [
      "[1, 2, 3, 'ranveer', 'raj', 10, 11, 12, 'rajvee', 10, 11, 12, 'rajvee']\n"
     ]
    }
   ],
   "source": [
    "l.remove(\"ranbir\")\n",
    "print(l)"
   ]
  },
  {
   "cell_type": "markdown",
   "metadata": {},
   "source": [
    "Day2\n",
    "Tuple:\n",
    "\n",
    "   It use to store data of different type.\n",
    "   It is immutable in nature.\n",
    "   It is suited for memory optimization."
   ]
  },
  {
   "cell_type": "code",
   "execution_count": 2,
   "metadata": {},
   "outputs": [
    {
     "name": "stdout",
     "output_type": "stream",
     "text": [
      "('randhir', 1, 2, 3, 1.1, [1, 2, 3])\n",
      "<class 'tuple'>\n"
     ]
    }
   ],
   "source": [
    "t = ('randhir',1,2,3,1.1,[1,2,3])\n",
    "print(t)\n",
    "print(type(t))"
   ]
  },
  {
   "cell_type": "code",
   "execution_count": 36,
   "metadata": {},
   "outputs": [
    {
     "data": {
      "text/plain": [
       "1"
      ]
     },
     "execution_count": 36,
     "metadata": {},
     "output_type": "execute_result"
    }
   ],
   "source": [
    "t.count(1)"
   ]
  },
  {
   "cell_type": "code",
   "execution_count": 3,
   "metadata": {},
   "outputs": [
    {
     "data": {
      "text/plain": [
       "1"
      ]
     },
     "execution_count": 3,
     "metadata": {},
     "output_type": "execute_result"
    }
   ],
   "source": [
    "t.index(1)"
   ]
  },
  {
   "cell_type": "code",
   "execution_count": 5,
   "metadata": {},
   "outputs": [
    {
     "data": {
      "text/plain": [
       "2"
      ]
     },
     "execution_count": 5,
     "metadata": {},
     "output_type": "execute_result"
    }
   ],
   "source": [
    "t[5][1]"
   ]
  },
  {
   "cell_type": "markdown",
   "metadata": {},
   "source": [
    "Dictionary:\n",
    "    It is unordered collection of key-value pairs\n",
    "    {}"
   ]
  },
  {
   "cell_type": "code",
   "execution_count": 6,
   "metadata": {},
   "outputs": [
    {
     "name": "stdout",
     "output_type": "stream",
     "text": [
      "{'name': 'randhir', 'age': 20, 'address': 'jaipur', 1: 2}\n",
      "<class 'dict'>\n"
     ]
    }
   ],
   "source": [
    "d={'name':'randhir','age':20,'address':'jaipur',1:2}\n",
    "print(d)\n",
    "print(type(d))"
   ]
  },
  {
   "cell_type": "code",
   "execution_count": 9,
   "metadata": {},
   "outputs": [
    {
     "data": {
      "text/plain": [
       "'ranbir'"
      ]
     },
     "execution_count": 9,
     "metadata": {},
     "output_type": "execute_result"
    }
   ],
   "source": [
    "d1={'name':['randhir','ranbir','ranveer']}\n",
    "d1['name'][1]"
   ]
  },
  {
   "cell_type": "code",
   "execution_count": 8,
   "metadata": {},
   "outputs": [
    {
     "data": {
      "text/plain": [
       "{'randir': 20, 'randhir': 21}"
      ]
     },
     "execution_count": 8,
     "metadata": {},
     "output_type": "execute_result"
    }
   ],
   "source": [
    "s={'randir':20,'randhir':21}\n",
    "s"
   ]
  },
  {
   "cell_type": "code",
   "execution_count": 10,
   "metadata": {},
   "outputs": [
    {
     "data": {
      "text/plain": [
       "['randhir', 'ranbir', 'ranveer']"
      ]
     },
     "execution_count": 10,
     "metadata": {},
     "output_type": "execute_result"
    }
   ],
   "source": [
    "d1={'name':['randhir','ranbir','ranveer']}\n",
    "d1['name'][:]"
   ]
  },
  {
   "cell_type": "code",
   "execution_count": 12,
   "metadata": {},
   "outputs": [],
   "source": [
    "emp_dir = {'sale':[{'name':'randhir' ,'salary':2000},\n",
    "                   {'name':'ranbir','salary':3000},\n",
    "                   {'name':'ranveer','salary':4000}],\n",
    "                   'marketing':[{'name':'abhi','salary':5000},\n",
    "                                {'name':'abhinav','salary':6000},\n",
    "                                {'name':'abhishek','salary':5500}\n",
    "                                ],\n",
    "                                'Software development':[{'name':'Nil','salary':2100},\n",
    "                                                        {'name':'Nitin','salary':2200},\n",
    "                                                        {'name':'Mukesh','salary':25-00}]}"
   ]
  },
  {
   "cell_type": "code",
   "execution_count": 13,
   "metadata": {},
   "outputs": [
    {
     "data": {
      "text/plain": [
       "{'sale': [{'name': 'randhir', 'salary': 2000},\n",
       "  {'name': 'ranbir', 'salary': 3000},\n",
       "  {'name': 'ranveer', 'salary': 4000}],\n",
       " 'marketing': [{'name': 'abhi', 'salary': 5000},\n",
       "  {'name': 'abhinav', 'salary': 6000},\n",
       "  {'name': 'abhishek', 'salary': 5500}],\n",
       " 'Software development': [{'name': 'Nil', 'salary': 2100},\n",
       "  {'name': 'Nitin', 'salary': 2200},\n",
       "  {'name': 'Mukesh', 'salary': 25}]}"
      ]
     },
     "execution_count": 13,
     "metadata": {},
     "output_type": "execute_result"
    }
   ],
   "source": [
    "emp_dir"
   ]
  },
  {
   "cell_type": "code",
   "execution_count": 14,
   "metadata": {},
   "outputs": [
    {
     "data": {
      "text/plain": [
       "[{'name': 'randhir', 'salary': 2000},\n",
       " {'name': 'ranbir', 'salary': 3000},\n",
       " {'name': 'ranveer', 'salary': 4000}]"
      ]
     },
     "execution_count": 14,
     "metadata": {},
     "output_type": "execute_result"
    }
   ],
   "source": [
    "emp_dir['sale']"
   ]
  },
  {
   "cell_type": "code",
   "execution_count": 15,
   "metadata": {},
   "outputs": [
    {
     "data": {
      "text/plain": [
       "[{'name': 'Nil', 'salary': 2100},\n",
       " {'name': 'Nitin', 'salary': 2200},\n",
       " {'name': 'Mukesh', 'salary': 25}]"
      ]
     },
     "execution_count": 15,
     "metadata": {},
     "output_type": "execute_result"
    }
   ],
   "source": [
    "emp_dir['Software development']"
   ]
  },
  {
   "cell_type": "code",
   "execution_count": 17,
   "metadata": {},
   "outputs": [
    {
     "data": {
      "text/plain": [
       "[{'name': 'Nitin', 'salary': 2200}, {'name': 'Mukesh', 'salary': 25}]"
      ]
     },
     "execution_count": 17,
     "metadata": {},
     "output_type": "execute_result"
    }
   ],
   "source": [
    "name= emp_dir['Software development']\n",
    "name[1:]"
   ]
  },
  {
   "cell_type": "code",
   "execution_count": 18,
   "metadata": {},
   "outputs": [
    {
     "data": {
      "text/plain": [
       "{'name': 'Nil', 'salary': 2100}"
      ]
     },
     "execution_count": 18,
     "metadata": {},
     "output_type": "execute_result"
    }
   ],
   "source": [
    "name[:][0]"
   ]
  },
  {
   "cell_type": "code",
   "execution_count": 19,
   "metadata": {},
   "outputs": [
    {
     "data": {
      "text/plain": [
       "[{'name': 'Nil', 'salary': 2100},\n",
       " {'name': 'Nitin', 'salary': 2200},\n",
       " {'name': 'Mukesh', 'salary': 25}]"
      ]
     },
     "execution_count": 19,
     "metadata": {},
     "output_type": "execute_result"
    }
   ],
   "source": [
    "name=emp_dir['Software development']\n",
    "name[:][:]"
   ]
  },
  {
   "cell_type": "code",
   "execution_count": 20,
   "metadata": {},
   "outputs": [
    {
     "data": {
      "text/plain": [
       "[{'name': 'Nitin', 'salary': 2200}, {'name': 'Mukesh', 'salary': 25}]"
      ]
     },
     "execution_count": 20,
     "metadata": {},
     "output_type": "execute_result"
    }
   ],
   "source": [
    "name[:][1:]"
   ]
  },
  {
   "cell_type": "code",
   "execution_count": 21,
   "metadata": {},
   "outputs": [
    {
     "data": {
      "text/plain": [
       "[{'name': 'Nil', 'salary': 2100}]"
      ]
     },
     "execution_count": 21,
     "metadata": {},
     "output_type": "execute_result"
    }
   ],
   "source": [
    "name[:][:1]"
   ]
  },
  {
   "cell_type": "code",
   "execution_count": 22,
   "metadata": {},
   "outputs": [
    {
     "data": {
      "text/plain": [
       "[{'name': 'Nil', 'salary': 2100}, {'name': 'Nitin', 'salary': 2200}]"
      ]
     },
     "execution_count": 22,
     "metadata": {},
     "output_type": "execute_result"
    }
   ],
   "source": [
    "name[:][:2]"
   ]
  },
  {
   "cell_type": "code",
   "execution_count": 23,
   "metadata": {},
   "outputs": [
    {
     "data": {
      "text/plain": [
       "{'name': 'Nitin', 'salary': 2200}"
      ]
     },
     "execution_count": 23,
     "metadata": {},
     "output_type": "execute_result"
    }
   ],
   "source": [
    "name[:][:][1]"
   ]
  },
  {
   "cell_type": "code",
   "execution_count": 24,
   "metadata": {},
   "outputs": [
    {
     "data": {
      "text/plain": [
       "'Nil'"
      ]
     },
     "execution_count": 24,
     "metadata": {},
     "output_type": "execute_result"
    }
   ],
   "source": [
    "name[0]['name']"
   ]
  },
  {
   "cell_type": "code",
   "execution_count": 25,
   "metadata": {},
   "outputs": [
    {
     "name": "stdout",
     "output_type": "stream",
     "text": [
      "Nil\n",
      "Nitin\n",
      "Mukesh\n"
     ]
    }
   ],
   "source": [
    "name=emp_dir['Software development']\n",
    "for i in range(3):\n",
    "    print(name[i]['name'])"
   ]
  },
  {
   "cell_type": "code",
   "execution_count": 27,
   "metadata": {},
   "outputs": [
    {
     "name": "stdout",
     "output_type": "stream",
     "text": [
      "Nil 2100\n",
      "Nitin 2200\n",
      "Mukesh 25\n"
     ]
    }
   ],
   "source": [
    "name=emp_dir['Software development']\n",
    "for i in range(3):\n",
    "    print(name[i]['name'],name[i]['salary'])"
   ]
  },
  {
   "cell_type": "code",
   "execution_count": 32,
   "metadata": {},
   "outputs": [
    {
     "data": {
      "text/plain": [
       "dict_keys(['randhir', 'raj', 'rajvee'])"
      ]
     },
     "execution_count": 32,
     "metadata": {},
     "output_type": "execute_result"
    }
   ],
   "source": [
    "student= {'randhir':40,'raj':30,'rajvee':22,'randhir':45}\n",
    "student.values()\n",
    "student.keys()"
   ]
  },
  {
   "cell_type": "code",
   "execution_count": 41,
   "metadata": {},
   "outputs": [
    {
     "name": "stdout",
     "output_type": "stream",
     "text": [
      "hi randhir\n",
      "hi raj\n",
      "hi rajvee\n"
     ]
    }
   ],
   "source": [
    "student= {'randhir':40,'raj':30,'rajvee':22,'randhir':45} # not give correct output\n",
    "n=40\n",
    "for key in student:\n",
    "    print(\"hi\",key)\n",
    "    if n==student[key]:\n",
    "        print(key)"
   ]
  },
  {
   "cell_type": "markdown",
   "metadata": {},
   "source": [
    "user input:\n",
    "input()"
   ]
  },
  {
   "cell_type": "code",
   "execution_count": 42,
   "metadata": {},
   "outputs": [
    {
     "name": "stdout",
     "output_type": "stream",
     "text": [
      "88\n",
      "<class 'int'>\n"
     ]
    }
   ],
   "source": [
    "n=eval(input(\"Enter any +ve number\"))\n",
    "print(n)\n",
    "print(type(n))\n"
   ]
  },
  {
   "cell_type": "markdown",
   "metadata": {},
   "source": [
    "conditional statement:\n",
    "    if statement\n",
    "    if else statement\n",
    "    if elif statement"
   ]
  },
  {
   "cell_type": "code",
   "execution_count": 43,
   "metadata": {},
   "outputs": [
    {
     "name": "stdout",
     "output_type": "stream",
     "text": [
      "7 is odd\n"
     ]
    }
   ],
   "source": [
    "n=int(input())\n",
    "if n%2==0:\n",
    "    print(f\"{n} is even\")\n",
    "else:\n",
    "    print(f\"{n} is odd\")"
   ]
  },
  {
   "cell_type": "code",
   "execution_count": 44,
   "metadata": {},
   "outputs": [
    {
     "name": "stdout",
     "output_type": "stream",
     "text": [
      "99 is odd\n"
     ]
    }
   ],
   "source": [
    "n=int(input())\n",
    "if(n & 1) == 0:\n",
    "    print(f\"{n} is even\")\n",
    "else:\n",
    "    print(f\"{n} is odd\")"
   ]
  },
  {
   "cell_type": "code",
   "execution_count": 2,
   "metadata": {},
   "outputs": [
    {
     "name": "stdout",
     "output_type": "stream",
     "text": [
      "not palindrome\n"
     ]
    }
   ],
   "source": [
    "# palindrome\n",
    "name=input(\"enter name\")\n",
    "if name == name[::-1]:\n",
    "    print(\"Palindrome\")\n",
    "else:\n",
    "    print(\"not palindrome\")"
   ]
  },
  {
   "cell_type": "code",
   "execution_count": 3,
   "metadata": {},
   "outputs": [
    {
     "name": "stdout",
     "output_type": "stream",
     "text": [
      "['n', 'i', 's', 's', 'i', 'n']\n",
      "['n', 'i', 's', 's', 'i', 'n']\n"
     ]
    }
   ],
   "source": [
    "name = input(\"Enter name\")\n",
    "rev_name = []\n",
    "for i in name:\n",
    "    rev_name.append(i)\n",
    "print(rev_name)\n",
    "temp=[]\n",
    "temp.extend(rev_name[::-1])\n",
    "print(temp)\n",
    "if rev_name == temp:\n",
    "    print(\"Palindrome\")\n",
    "else:\n",
    "    print(\"Not Palindrome\")"
   ]
  },
  {
   "cell_type": "code",
   "execution_count": null,
   "metadata": {},
   "outputs": [],
   "source": [
    "n=input()\n",
    "revstr = ''.join(reversed(n))\n",
    "if (n== revstr):\n",
    "    print(\"This is palindrome\")\n",
    "else:\n",
    "    print(\"this is not palindrome\")"
   ]
  },
  {
   "cell_type": "code",
   "execution_count": 6,
   "metadata": {},
   "outputs": [
    {
     "name": "stdout",
     "output_type": "stream",
     "text": [
      "[1, 3, 5]\n"
     ]
    }
   ],
   "source": [
    "l=[1,2,3,4,5]\n",
    "print(l[::])"
   ]
  },
  {
   "cell_type": "code",
   "execution_count": 7,
   "metadata": {},
   "outputs": [
    {
     "name": "stdout",
     "output_type": "stream",
     "text": [
      "[5, 4, 3, 2, 1, 0]\n",
      "3\n",
      "3\n",
      "[5, 4, 3]\n"
     ]
    }
   ],
   "source": [
    "l=[0,1,2,3,4,5]\n",
    "print(l[::-1])\n",
    "print(l[-3])\n",
    "print(l[-3])\n",
    "print(l[-1:-4:-1])"
   ]
  },
  {
   "cell_type": "code",
   "execution_count": null,
   "metadata": {},
   "outputs": [],
   "source": [
    "percentage = int(input(\"Enter percentage\"))\n",
    "if percentage >= 75 and percentage<=100:\n",
    "    print(\"A\")\n",
    "elif percentage >= 65 and percentage<75:\n",
    "    print(\"B\")\n",
    "elif percentage >=55 and percentage<65:\n",
    "    print(\"C\")\n",
    "elif percentage < 55:\n",
    "    print(\"Fail\")\n",
    "else:\n",
    "    print(\"Plz enter correct percentage....!\")"
   ]
  },
  {
   "cell_type": "code",
   "execution_count": null,
   "metadata": {},
   "outputs": [],
   "source": [
    "percentage = int(input(\"Enter %\"))\n",
    "if percentage >=75 and percentage <=100:\n",
    "    print(\"A\")\n",
    "elif percentage >=65 and percentage < 75:\n",
    "    print(\"B\")\n",
    "elif percentage >=55 and percentage < 65:\n",
    "    print(\"C\")\n",
    "elif percentage < 55:\n",
    "    print(\"Fail\")\n",
    "else:\n",
    "    print(\"Please enter correct %\")"
   ]
  },
  {
   "cell_type": "markdown",
   "metadata": {},
   "source": [
    "While: Iteration dont know in advance then we use while \n",
    "For: If we know iteration in advance then we use for also for loop is used\n",
    "for list,tuple,set and dictionary"
   ]
  },
  {
   "cell_type": "code",
   "execution_count": 8,
   "metadata": {},
   "outputs": [
    {
     "name": "stdout",
     "output_type": "stream",
     "text": [
      "10\n",
      "11\n",
      "12\n",
      "13\n",
      "14\n",
      "15\n",
      "16\n",
      "17\n",
      "18\n",
      "19\n",
      "20\n"
     ]
    }
   ],
   "source": [
    "for i in range(10,21):\n",
    "    print(i)"
   ]
  },
  {
   "cell_type": "code",
   "execution_count": 9,
   "metadata": {},
   "outputs": [
    {
     "name": "stdout",
     "output_type": "stream",
     "text": [
      "10\n",
      "12\n",
      "14\n",
      "16\n",
      "18\n",
      "20\n"
     ]
    }
   ],
   "source": [
    "for i in range(10,21,2):\n",
    "    print(i)"
   ]
  },
  {
   "cell_type": "code",
   "execution_count": 11,
   "metadata": {},
   "outputs": [
    {
     "name": "stdout",
     "output_type": "stream",
     "text": [
      "ranbir\n",
      "1\n",
      "2\n",
      "3\n",
      "10\n",
      "11.1\n",
      "12.1\n",
      "pqr\n"
     ]
    }
   ],
   "source": [
    "l1 = ['ranbir',1,2,3,10,11.1,12.1,'pqr']\n",
    "for i in l1:\n",
    "    print(i)"
   ]
  },
  {
   "cell_type": "code",
   "execution_count": 12,
   "metadata": {},
   "outputs": [
    {
     "name": "stdout",
     "output_type": "stream",
     "text": [
      "1\n",
      "2\n",
      "3\n",
      "4\n",
      "5\n",
      "6\n",
      "7\n",
      "8\n",
      "9\n",
      "10\n"
     ]
    }
   ],
   "source": [
    "i=1\n",
    "while i <=10:\n",
    "    print(i)\n",
    "    i+=1"
   ]
  },
  {
   "cell_type": "markdown",
   "metadata": {},
   "source": [
    "While loop only apply for conditiions not iterate value."
   ]
  },
  {
   "cell_type": "markdown",
   "metadata": {},
   "source": [
    "Day3 24-02-2024"
   ]
  },
  {
   "cell_type": "code",
   "execution_count": 1,
   "metadata": {},
   "outputs": [
    {
     "name": "stdout",
     "output_type": "stream",
     "text": [
      "b\n",
      "fail\n"
     ]
    }
   ],
   "source": [
    "per1 = int(input(\"Enter a percentage\"))\n",
    "if per1>=80 and per1<100:\n",
    "    print(\"a\")\n",
    "if per1>=70 and per1<80:\n",
    "    print(\"b\")\n",
    "if per1 >=60 and per1 < 70:\n",
    "    print(\"c\")\n",
    "else:\n",
    "    print(\"fail\")"
   ]
  },
  {
   "cell_type": "markdown",
   "metadata": {},
   "source": [
    "For :\n",
    "When we know the iteration in advance we make a use of for loop\n",
    "We make a use of for loop when we want to perform the operation on Data Structure list,tuple,set, dict."
   ]
  },
  {
   "cell_type": "code",
   "execution_count": 2,
   "metadata": {},
   "outputs": [
    {
     "name": "stdout",
     "output_type": "stream",
     "text": [
      "0\n",
      "1\n",
      "2\n",
      "3\n",
      "4\n",
      "5\n",
      "6\n",
      "7\n",
      "8\n",
      "9\n"
     ]
    }
   ],
   "source": [
    "for i in range(10):\n",
    "    print(i)"
   ]
  },
  {
   "cell_type": "code",
   "execution_count": 3,
   "metadata": {},
   "outputs": [
    {
     "name": "stdout",
     "output_type": "stream",
     "text": [
      "1\n",
      "2\n",
      "3\n",
      "4\n",
      "5\n",
      "6\n",
      "7\n",
      "8\n",
      "9\n",
      "10\n"
     ]
    }
   ],
   "source": [
    "for i in range(1,11):\n",
    "    print(i)"
   ]
  },
  {
   "cell_type": "code",
   "execution_count": 4,
   "metadata": {},
   "outputs": [
    {
     "name": "stdout",
     "output_type": "stream",
     "text": [
      "21\n",
      "23\n",
      "25\n",
      "27\n",
      "29\n",
      "31\n",
      "33\n",
      "35\n",
      "37\n",
      "39\n"
     ]
    }
   ],
   "source": [
    "for i in range(21,41,2):\n",
    "    print(i)"
   ]
  },
  {
   "cell_type": "code",
   "execution_count": 5,
   "metadata": {},
   "outputs": [
    {
     "name": "stdout",
     "output_type": "stream",
     "text": [
      "50\n",
      "48\n",
      "46\n",
      "44\n",
      "42\n",
      "40\n",
      "38\n",
      "36\n",
      "34\n",
      "32\n",
      "30\n",
      "28\n",
      "26\n",
      "24\n",
      "22\n"
     ]
    }
   ],
   "source": [
    "for i in range(50,20,-2):\n",
    "    print(i)"
   ]
  },
  {
   "cell_type": "code",
   "execution_count": 6,
   "metadata": {},
   "outputs": [
    {
     "name": "stdout",
     "output_type": "stream",
     "text": [
      "40\n",
      "38\n",
      "36\n",
      "34\n",
      "32\n",
      "30\n",
      "28\n",
      "26\n",
      "24\n",
      "22\n"
     ]
    }
   ],
   "source": [
    "for i in range(40,20,-2):\n",
    "    print(i)"
   ]
  },
  {
   "cell_type": "code",
   "execution_count": 7,
   "metadata": {},
   "outputs": [
    {
     "name": "stdout",
     "output_type": "stream",
     "text": [
      "50\n",
      "53\n",
      "56\n",
      "59\n"
     ]
    }
   ],
   "source": [
    "for i in range(50,60,3):\n",
    "    print(i)"
   ]
  },
  {
   "cell_type": "code",
   "execution_count": 8,
   "metadata": {},
   "outputs": [
    {
     "name": "stdout",
     "output_type": "stream",
     "text": [
      "1\n",
      "2\n",
      "3\n",
      "4\n"
     ]
    }
   ],
   "source": [
    "for i in range(1,5):\n",
    "    print(i)"
   ]
  },
  {
   "cell_type": "code",
   "execution_count": 9,
   "metadata": {},
   "outputs": [
    {
     "name": "stdout",
     "output_type": "stream",
     "text": [
      "15625\n",
      "17576\n",
      "19683\n",
      "21952\n",
      "24389\n",
      "27000\n"
     ]
    }
   ],
   "source": [
    "for i in range(25,31):\n",
    "    print(i**3)"
   ]
  },
  {
   "cell_type": "markdown",
   "metadata": {},
   "source": [
    "List Comprehension:\n"
   ]
  },
  {
   "cell_type": "code",
   "execution_count": 10,
   "metadata": {},
   "outputs": [
    {
     "data": {
      "text/plain": [
       "[0, 1, 2, 3, 4, 5, 6, 7, 8, 9, 10]"
      ]
     },
     "execution_count": 10,
     "metadata": {},
     "output_type": "execute_result"
    }
   ],
   "source": [
    "l1 = [x for x in range(11)]\n",
    "l1"
   ]
  },
  {
   "cell_type": "code",
   "execution_count": 13,
   "metadata": {},
   "outputs": [],
   "source": [
    "for x in range(11):\n",
    "    x"
   ]
  },
  {
   "cell_type": "code",
   "execution_count": 14,
   "metadata": {},
   "outputs": [
    {
     "data": {
      "text/plain": [
       "[0, 1, 2, 3, 4, 5, 6, 7, 8, 9, 10]"
      ]
     },
     "execution_count": 14,
     "metadata": {},
     "output_type": "execute_result"
    }
   ],
   "source": [
    "l1 = [x for x in range(11)]\n",
    "l1"
   ]
  },
  {
   "cell_type": "code",
   "execution_count": 15,
   "metadata": {},
   "outputs": [
    {
     "data": {
      "text/plain": [
       "[4, 8, 12, 16, 20]"
      ]
     },
     "execution_count": 15,
     "metadata": {},
     "output_type": "execute_result"
    }
   ],
   "source": [
    "l1 = [x for x in range(4,24,4)]\n",
    "l1"
   ]
  },
  {
   "cell_type": "code",
   "execution_count": 16,
   "metadata": {},
   "outputs": [
    {
     "data": {
      "text/plain": [
       "[4, 8, 12, 16, 20, 24, 28, 32, 36, 40]"
      ]
     },
     "execution_count": 16,
     "metadata": {},
     "output_type": "execute_result"
    }
   ],
   "source": [
    "sqr_4 = [x*4 for x in range(1,11)]\n",
    "sqr_4"
   ]
  },
  {
   "cell_type": "code",
   "execution_count": 17,
   "metadata": {},
   "outputs": [
    {
     "name": "stdout",
     "output_type": "stream",
     "text": [
      "odd\n"
     ]
    }
   ],
   "source": [
    "# Note: Used for odd and even number\n",
    "n= int(input(\"Enter number\"))\n",
    "if n&1 == 0:\n",
    "    print(\"even\")\n",
    "else:\n",
    "    print(\"odd\") "
   ]
  },
  {
   "cell_type": "code",
   "execution_count": 18,
   "metadata": {},
   "outputs": [
    {
     "name": "stdout",
     "output_type": "stream",
     "text": [
      "50 is even\n",
      "52 is even\n",
      "54 is even\n",
      "56 is even\n",
      "58 is even\n",
      "60 is even\n"
     ]
    }
   ],
   "source": [
    "for x in range(50,61):\n",
    "    if (x & 1)==0:\n",
    "        print(f\"{x} is even\")"
   ]
  },
  {
   "cell_type": "code",
   "execution_count": 19,
   "metadata": {},
   "outputs": [
    {
     "data": {
      "text/plain": [
       "[50, 52, 54, 56, 58]"
      ]
     },
     "execution_count": 19,
     "metadata": {},
     "output_type": "execute_result"
    }
   ],
   "source": [
    "# Even no find\n",
    "l1= [x for x in range(50,60) if x&1==0]\n",
    "l1"
   ]
  },
  {
   "cell_type": "code",
   "execution_count": 20,
   "metadata": {},
   "outputs": [
    {
     "data": {
      "text/plain": [
       "[50, 52, 54, 56, 58, 60]"
      ]
     },
     "execution_count": 20,
     "metadata": {},
     "output_type": "execute_result"
    }
   ],
   "source": [
    "l1 = [x for x in range(50,61) if (x & 1) == 0]\n",
    "l1"
   ]
  },
  {
   "cell_type": "code",
   "execution_count": 21,
   "metadata": {},
   "outputs": [
    {
     "data": {
      "text/plain": [
       "[44, 12, 66, 4]"
      ]
     },
     "execution_count": 21,
     "metadata": {},
     "output_type": "execute_result"
    }
   ],
   "source": [
    "l1 = [21,44,12,66,4,21,31,77,91]\n",
    "l2 = [x for x in l1 if (x& 1) ==0]\n",
    "l2"
   ]
  },
  {
   "cell_type": "code",
   "execution_count": 22,
   "metadata": {},
   "outputs": [
    {
     "name": "stdout",
     "output_type": "stream",
     "text": [
      "44\n",
      "12\n",
      "66\n",
      "4\n"
     ]
    }
   ],
   "source": [
    "for i in l2:\n",
    "    print(i)"
   ]
  },
  {
   "cell_type": "code",
   "execution_count": 23,
   "metadata": {},
   "outputs": [
    {
     "data": {
      "text/plain": [
       "[41, 9, 63, 1]"
      ]
     },
     "execution_count": 23,
     "metadata": {},
     "output_type": "execute_result"
    }
   ],
   "source": [
    "l3 = [i-3 for i in l2]\n",
    "l3"
   ]
  },
  {
   "cell_type": "code",
   "execution_count": 24,
   "metadata": {},
   "outputs": [
    {
     "name": "stdout",
     "output_type": "stream",
     "text": [
      "41\n",
      "9\n",
      "63\n",
      "1\n"
     ]
    }
   ],
   "source": [
    "for l3 in l2:\n",
    "    print(l3-3)"
   ]
  },
  {
   "cell_type": "code",
   "execution_count": 25,
   "metadata": {},
   "outputs": [
    {
     "data": {
      "text/plain": [
       "[1, 125, 1156, 5476, 27, 64, 658503]"
      ]
     },
     "execution_count": 25,
     "metadata": {},
     "output_type": "execute_result"
    }
   ],
   "source": [
    "l1 = [1,5,34,74,3,8,87]\n",
    "l2=[x**2 if x&1 ==0 else x**3 for x in l1]\n",
    "l2"
   ]
  },
  {
   "cell_type": "code",
   "execution_count": 26,
   "metadata": {},
   "outputs": [
    {
     "name": "stdout",
     "output_type": "stream",
     "text": [
      "My name is randhir and my surname is gawai\n",
      "My name is ranbir and my surname is kapoor\n",
      "My name is ranveer and my surname is singh\n"
     ]
    }
   ],
   "source": [
    "name = ['randhir','ranbir','ranveer']\n",
    "surname=['gawai','kapoor','singh']\n",
    "for i,j in zip(name,surname):\n",
    "    print(f\"My name is {i} and my surname is {j}\")"
   ]
  },
  {
   "cell_type": "code",
   "execution_count": 27,
   "metadata": {},
   "outputs": [
    {
     "name": "stdout",
     "output_type": "stream",
     "text": [
      "[(1, 1), (2, 4), (3, 9), (4, 16), (5, 25)]\n"
     ]
    }
   ],
   "source": [
    "n1 = [1,2,3,4,5]\n",
    "n2 = [1,4,9,16,25]\n",
    "result = zip(n1,n2)\n",
    "result_list = list(result)\n",
    "print(result_list)"
   ]
  },
  {
   "cell_type": "code",
   "execution_count": 28,
   "metadata": {},
   "outputs": [
    {
     "data": {
      "text/plain": [
       "[(1, 1), (2, 4), (3, 9.16), (4, 25)]"
      ]
     },
     "execution_count": 28,
     "metadata": {},
     "output_type": "execute_result"
    }
   ],
   "source": [
    "n1 = [1,2,3,4,5]\n",
    "n2 = [1,4,9.16,25]\n",
    "n3 = list(zip(n1,n2))\n",
    "n3"
   ]
  },
  {
   "cell_type": "code",
   "execution_count": 30,
   "metadata": {},
   "outputs": [
    {
     "data": {
      "text/plain": [
       "[(1, 1), (2, 4), (3, 9), (4, 16), (5, 25)]"
      ]
     },
     "execution_count": 30,
     "metadata": {},
     "output_type": "execute_result"
    }
   ],
   "source": [
    "n1 = [1,2,3,4,5]\n",
    "n2 = [1,4,9,16,25]\n",
    "n3 = [(x,y) for x,y in zip(n1,n2)]\n",
    "n3"
   ]
  },
  {
   "cell_type": "code",
   "execution_count": 31,
   "metadata": {},
   "outputs": [
    {
     "data": {
      "text/plain": [
       "{0: 0, 1: 1, 2: 4, 3: 9, 4: 16, 5: 25}"
      ]
     },
     "execution_count": 31,
     "metadata": {},
     "output_type": "execute_result"
    }
   ],
   "source": [
    "# Dic Compression\n",
    "d = {x:x**2 for x in range(6)}\n",
    "d"
   ]
  },
  {
   "cell_type": "code",
   "execution_count": 32,
   "metadata": {},
   "outputs": [
    {
     "data": {
      "text/plain": [
       "{0: 0, 2: 4, 4: 16}"
      ]
     },
     "execution_count": 32,
     "metadata": {},
     "output_type": "execute_result"
    }
   ],
   "source": [
    "d = {x:x**2 for x in range(6)}\n",
    "d1 = {k:v for k,v in d.items() if v&1 ==0}\n",
    "d1"
   ]
  },
  {
   "cell_type": "markdown",
   "metadata": {},
   "source": [
    "import random\n",
    "print(random.random()) # it generate the random value between 0 to 1(1 is not included)\n",
    "print(random.randint(1000,9999)) # it will generate the random number from given argument\n",
    "print(random.uniform(10,20)) # it will generate the random float value from given argument\n",
    "print(random.randrange(1,5)) # it will generate the random number from given argument not include last value\n",
    "print(random.choice(s))\n"
   ]
  },
  {
   "cell_type": "code",
   "execution_count": 3,
   "metadata": {},
   "outputs": [
    {
     "name": "stdout",
     "output_type": "stream",
     "text": [
      "0.6592487909039915\n",
      "4\n"
     ]
    }
   ],
   "source": [
    "import random\n",
    "print(random.random())\n",
    "print(random.randint(1,10))"
   ]
  },
  {
   "cell_type": "code",
   "execution_count": 7,
   "metadata": {},
   "outputs": [
    {
     "name": "stdout",
     "output_type": "stream",
     "text": [
      "3\n",
      "3.1596489857850134\n",
      "3\n",
      "satya\n"
     ]
    }
   ],
   "source": [
    "print(random.randint(1,6))\n",
    "print(random.uniform(1,6))\n",
    "print(random.randrange(1,6))\n",
    "name = ['nisha','satya','aman','aks']\n",
    "print(random.choice(name))"
   ]
  },
  {
   "cell_type": "markdown",
   "metadata": {},
   "source": [
    "Function:\n",
    "\n",
    "Function is a block of code which is used to perform some specific operation,once the function is defined we can called it whenever we required.\n",
    "\n",
    "Predefine function\n",
    "\n",
    "User define function:\n",
    "Function returning value\n",
    "Function non returning value\n",
    "Function with argument\n",
    "Function without argument"
   ]
  },
  {
   "cell_type": "code",
   "execution_count": 8,
   "metadata": {},
   "outputs": [
    {
     "name": "stdout",
     "output_type": "stream",
     "text": [
      "30\n"
     ]
    }
   ],
   "source": [
    "def sum():\n",
    "    print(10+20)  # function without argument and not returnng value\n",
    "    print(\"above is result of 10+20\")\n",
    "sum()"
   ]
  },
  {
   "cell_type": "code",
   "execution_count": 9,
   "metadata": {},
   "outputs": [
    {
     "name": "stdout",
     "output_type": "stream",
     "text": [
      "8\n",
      "above is result of 1 + 7\n"
     ]
    }
   ],
   "source": [
    "# Function with argument without returning\n",
    "def sum1(a,b):\n",
    "    print(a+b)\n",
    "    print(f\"above is result of {a} + {b}\")\n",
    "sum1(1,7)"
   ]
  },
  {
   "cell_type": "code",
   "execution_count": 11,
   "metadata": {},
   "outputs": [
    {
     "name": "stdout",
     "output_type": "stream",
     "text": [
      "11\n",
      "above is result of 3 + 8\n"
     ]
    }
   ],
   "source": [
    "def sum2(a,b):\n",
    "    return(f\"{a+b} is result of {a} + {b}\")\n",
    "sum2(5,10)\n",
    "sum1(3,8)"
   ]
  },
  {
   "cell_type": "code",
   "execution_count": 12,
   "metadata": {},
   "outputs": [
    {
     "name": "stdout",
     "output_type": "stream",
     "text": [
      "15 is result of 5 + 10\n",
      "50\n",
      "above is result of 30 + 20\n"
     ]
    },
    {
     "data": {
      "text/plain": [
       "10"
      ]
     },
     "execution_count": 12,
     "metadata": {},
     "output_type": "execute_result"
    }
   ],
   "source": [
    "def sum2(a,b):\n",
    "    return(f\"{a+b} is result of {a} + {b}\") # return always used for print\n",
    "print(sum2(5,10))\n",
    "sum1(30,20)\n",
    "a=10\n",
    "a"
   ]
  },
  {
   "cell_type": "markdown",
   "metadata": {},
   "source": [
    "Day 4  25/02/2024\n",
    "Recusion Function:\n",
    "\n",
    "Recursive function is a function which call itself in order to solve the problem"
   ]
  },
  {
   "cell_type": "code",
   "execution_count": 17,
   "metadata": {},
   "outputs": [
    {
     "name": "stdout",
     "output_type": "stream",
     "text": [
      "1\n",
      "2\n",
      "6\n",
      "24\n",
      "120\n"
     ]
    }
   ],
   "source": [
    "f=1\n",
    "for i in range(1,6):\n",
    "    f=i*f\n",
    "    print(f)"
   ]
  },
  {
   "cell_type": "code",
   "execution_count": 18,
   "metadata": {},
   "outputs": [
    {
     "name": "stdout",
     "output_type": "stream",
     "text": [
      "1\n",
      "2\n",
      "6\n",
      "24\n",
      "120\n"
     ]
    }
   ],
   "source": [
    "f=1\n",
    "i=1\n",
    "while i <=5:\n",
    "    f=f*i\n",
    "    i=i+1\n",
    "    print(f)"
   ]
  },
  {
   "cell_type": "code",
   "execution_count": 20,
   "metadata": {},
   "outputs": [
    {
     "name": "stdout",
     "output_type": "stream",
     "text": [
      "1\n",
      "2\n",
      "6\n",
      "24\n",
      "120\n",
      "720\n",
      "5040\n",
      "40320\n",
      "362880\n",
      "3628800\n"
     ]
    }
   ],
   "source": [
    "def fact(n):\n",
    "    f=1\n",
    "    for i in range(1,n):\n",
    "        f=i*f\n",
    "        print(f)\n",
    "fact(11)"
   ]
  },
  {
   "cell_type": "code",
   "execution_count": 21,
   "metadata": {},
   "outputs": [
    {
     "data": {
      "text/plain": [
       "120"
      ]
     },
     "execution_count": 21,
     "metadata": {},
     "output_type": "execute_result"
    }
   ],
   "source": [
    "def fact_res(n):\n",
    "    if n==0:\n",
    "        return 1\n",
    "    else:\n",
    "        return n*fact_res(n-1)\n",
    "\n",
    "fact_res(5)"
   ]
  },
  {
   "cell_type": "code",
   "execution_count": 22,
   "metadata": {},
   "outputs": [
    {
     "data": {
      "text/plain": [
       "6"
      ]
     },
     "execution_count": 22,
     "metadata": {},
     "output_type": "execute_result"
    }
   ],
   "source": [
    "# factorial by recursion function\n",
    "def fact_res(n):\n",
    "    if n==0:\n",
    "        return 1\n",
    "    else:\n",
    "        return n*fact_res(n-1)\n",
    "n = int(input(\"Enter value \"))\n",
    "fact_res(n)"
   ]
  },
  {
   "cell_type": "code",
   "execution_count": 23,
   "metadata": {},
   "outputs": [
    {
     "data": {
      "text/plain": [
       "15"
      ]
     },
     "execution_count": 23,
     "metadata": {},
     "output_type": "execute_result"
    }
   ],
   "source": [
    "# sum by using recursion function\n",
    "def sum_res(n):\n",
    "    if n==0:\n",
    "        return 0\n",
    "    else:\n",
    "        return n+ sum_res(n-1)\n",
    "n = 5\n",
    "sum_res(n)"
   ]
  },
  {
   "cell_type": "code",
   "execution_count": null,
   "metadata": {},
   "outputs": [],
   "source": [
    "# sum by using recursion function\n",
    "def sum_res(n):\n",
    "    if n==0:\n",
    "        return 0\n",
    "    else:\n",
    "        return n+ sum_res(n-1)\n",
    "n = int(input(\"Enter value\"))\n",
    "sum_res(n)"
   ]
  },
  {
   "cell_type": "code",
   "execution_count": 24,
   "metadata": {},
   "outputs": [
    {
     "name": "stdout",
     "output_type": "stream",
     "text": [
      "0\n",
      "1\n",
      "1\n",
      "2\n",
      "3\n",
      "5\n",
      "8\n"
     ]
    }
   ],
   "source": [
    "# Fibonacci Series\n",
    "a,b=0,1\n",
    "print(a)\n",
    "print(b)\n",
    "for i in range(5):\n",
    "    c=a+b\n",
    "    print(c)\n",
    "    a,b=b,c\n"
   ]
  },
  {
   "cell_type": "code",
   "execution_count": 25,
   "metadata": {},
   "outputs": [
    {
     "name": "stdout",
     "output_type": "stream",
     "text": [
      "0\n",
      "1\n",
      "1\n",
      "2\n",
      "3\n",
      "5\n",
      "8\n"
     ]
    }
   ],
   "source": [
    "# fibnaoci series\n",
    "a,b=0,1\n",
    "print(a)\n",
    "print(b)\n",
    "for i in range(5):\n",
    "    c=a+b\n",
    "    print(c)\n",
    "    a,b=b,c"
   ]
  },
  {
   "cell_type": "code",
   "execution_count": 27,
   "metadata": {},
   "outputs": [
    {
     "name": "stdout",
     "output_type": "stream",
     "text": [
      "1\n",
      "2\n",
      "3\n",
      "5\n",
      "8\n",
      "13\n",
      "21\n",
      "34\n",
      "55\n",
      "89\n"
     ]
    }
   ],
   "source": [
    "def fibo(n):\n",
    "    a,b=0,1\n",
    "    '''print(a)\n",
    "    print(b)'''\n",
    "    for i in range(n):\n",
    "        c=a+b\n",
    "        print(c)\n",
    "        a,b=b,c\n",
    "fibo(10)"
   ]
  },
  {
   "cell_type": "markdown",
   "metadata": {},
   "source": [
    "Lambda function"
   ]
  },
  {
   "cell_type": "code",
   "execution_count": 28,
   "metadata": {},
   "outputs": [
    {
     "name": "stdout",
     "output_type": "stream",
     "text": [
      "50\n"
     ]
    }
   ],
   "source": [
    "add = lambda a,b:a+b\n",
    "print(add(20,30))"
   ]
  },
  {
   "cell_type": "code",
   "execution_count": 29,
   "metadata": {},
   "outputs": [
    {
     "data": {
      "text/plain": [
       "'even'"
      ]
     },
     "execution_count": 29,
     "metadata": {},
     "output_type": "execute_result"
    }
   ],
   "source": [
    "even_odd = lambda n:\"even\" if n&1==0 else \"odd\"\n",
    "even_odd(2)"
   ]
  },
  {
   "cell_type": "code",
   "execution_count": 30,
   "metadata": {},
   "outputs": [
    {
     "data": {
      "text/plain": [
       "120"
      ]
     },
     "execution_count": 30,
     "metadata": {},
     "output_type": "execute_result"
    }
   ],
   "source": [
    "fact = lambda n: 1 if n==0 else n*fact(n-1)\n",
    "fact(5)"
   ]
  },
  {
   "cell_type": "code",
   "execution_count": 31,
   "metadata": {},
   "outputs": [
    {
     "name": "stdout",
     "output_type": "stream",
     "text": [
      "2\n",
      "4\n",
      "6\n",
      "8\n",
      "10\n"
     ]
    },
    {
     "data": {
      "text/plain": [
       "[None, None, None, None, None]"
      ]
     },
     "execution_count": 31,
     "metadata": {},
     "output_type": "execute_result"
    }
   ],
   "source": [
    "list = [1,2,3,4,5]\n",
    "f = lambda listx: [print(x * 2) for x in listx]\n",
    "f(list)"
   ]
  },
  {
   "cell_type": "code",
   "execution_count": 32,
   "metadata": {},
   "outputs": [
    {
     "data": {
      "text/plain": [
       "[25, 36, 49, 64, 81, 100]"
      ]
     },
     "execution_count": 32,
     "metadata": {},
     "output_type": "execute_result"
    }
   ],
   "source": [
    "sq = lambda s,e:[n**2 for n in range(s,e)]\n",
    "sq(5,11)"
   ]
  },
  {
   "cell_type": "code",
   "execution_count": 33,
   "metadata": {},
   "outputs": [],
   "source": [
    "import requests\n",
    "API_Key = '0efbaff5c775f0ad73f0a7c714f0928e'\n",
    "city_name=input(\"Enter city name\")\n",
    "wether_data=requests.get(f\"https://api.openweathermap.org/data/2.5/weather?q={city_name}&appid={API_Key}\")\n"
   ]
  },
  {
   "cell_type": "code",
   "execution_count": null,
   "metadata": {},
   "outputs": [],
   "source": [
    "import requests\n",
    "API_Key = '0efbaff5c775f0ad73f0a7c714f0928e'\n",
    "city_name=input(\"Enter city name\")\n",
    "wether_data=requests.get(f\"https://api.openweathermap.org/data/2.5/weather?q={city_name}&appid={API_Key}\")\n",
    "\n",
    "if wether_data.json() ['cod'] == '404':\n",
    "    print(\"Enter correct city name\")\n",
    "else:\n",
    "    weather= wether_data.json()['weather'][0]['main']\n",
    "    print(wether_data)\n",
    "    temp= wether_data.json()['main']['temp']\n",
    "    print(temp)\n",
    "    humidity= wether_data.json()['main']['humidity']\n",
    "    print(humidity)"
   ]
  },
  {
   "cell_type": "markdown",
   "metadata": {},
   "source": [
    "Day 5  02/03/2024\n",
    "Polymorphism\n",
    "\n",
    "Polymorphism: One name many\n",
    "\n",
    "It enables to perform different action or behavior based on the actual type of an object at run times\n",
    "\n",
    "Static Ploymorphism(Complie time): Overloading\n",
    "Dynamic Polymorphism(run time):Overriding\n",
    "\n",
    "Overriding: It is mostly used for memory reducing process\n",
    "            \n",
    "            Method overriding occures when a derived class defines a method with the same name as a method in its super class."
   ]
  },
  {
   "cell_type": "markdown",
   "metadata": {},
   "source": [
    "class : collection of data members and member function\n",
    "object: blue print of class\n",
    "         It is used to call the data member and members function of that class"
   ]
  },
  {
   "cell_type": "code",
   "execution_count": 34,
   "metadata": {},
   "outputs": [
    {
     "name": "stdout",
     "output_type": "stream",
     "text": [
      "10\n"
     ]
    }
   ],
   "source": [
    "class calculator():\n",
    "    a=10\n",
    "    b=20\n",
    "    def sum(self):\n",
    "        print(\"Sum of a and b:\",self.a + self.b)\n",
    "c = calculator()\n",
    "print(c.a)"
   ]
  },
  {
   "cell_type": "code",
   "execution_count": 38,
   "metadata": {},
   "outputs": [
    {
     "name": "stdout",
     "output_type": "stream",
     "text": [
      "10\n",
      "20\n",
      "Sum of a and b: 30\n",
      "1493604776592\n",
      "1493604773840\n"
     ]
    }
   ],
   "source": [
    "class calculator():\n",
    "    a=10\n",
    "    b=20\n",
    "    def sum(self):\n",
    "        print(\"Sum of a and b:\" ,self.a + self.b)\n",
    "c= calculator()\n",
    "c1= calculator()\n",
    "\n",
    "print(c.a)\n",
    "print(c.b)\n",
    "c.sum()\n",
    "print(id(c))\n",
    "print(id(c1))"
   ]
  },
  {
   "cell_type": "markdown",
   "metadata": {},
   "source": [
    "self: It is used to store current object of a class"
   ]
  },
  {
   "cell_type": "markdown",
   "metadata": {},
   "source": [
    "Overriding Concept"
   ]
  },
  {
   "cell_type": "code",
   "execution_count": 39,
   "metadata": {},
   "outputs": [
    {
     "name": "stdout",
     "output_type": "stream",
     "text": [
      "Area of circle : 452.15999999999997\n"
     ]
    }
   ],
   "source": [
    "class shape:\n",
    "    def area(self):\n",
    "        pass\n",
    "class circle(shape):\n",
    "    def area(self):\n",
    "        self.r = int(input(\"Enter radius of circle\"))\n",
    "        print(\"Area of circle :\",3.14*self.r*self.r)\n",
    "class rect(shape):\n",
    "    def area(self):\n",
    "        self.l = int(input(\"Enter length\"))\n",
    "        self.b= int(input(\"Enter bredth\"))\n",
    "        print(\"Area of rectangle :\",self.l*self.b)\n",
    "c=circle()\n",
    "c.area()"
   ]
  },
  {
   "cell_type": "code",
   "execution_count": 40,
   "metadata": {},
   "outputs": [
    {
     "name": "stdout",
     "output_type": "stream",
     "text": [
      "Area of circle : 50.24\n",
      "Area of rectangle : 14\n"
     ]
    }
   ],
   "source": [
    "class shape:\n",
    "    def area(self):\n",
    "        pass\n",
    "class circle(shape):\n",
    "    def area(self):\n",
    "        self.r = int(input(\"Enter radius of circle\"))\n",
    "        print(\"Area of circle :\",3.14*self.r*self.r)\n",
    "class rect(shape):\n",
    "    def area(self):\n",
    "        self.l = int(input(\"Enter length\"))\n",
    "        self.b= int(input(\"Enter bredth\"))\n",
    "        print(\"Area of rectangle :\",self.l*self.b)\n",
    "c=circle()\n",
    "c.area()\n",
    "r=rect()\n",
    "r.area()"
   ]
  },
  {
   "cell_type": "markdown",
   "metadata": {},
   "source": [
    "Task \n",
    "        account (Create account-> Bal   && withdraw)\n",
    "1. Saving(withdraw)   2.Current(withdraw)  3.Investment(withdraw)"
   ]
  },
  {
   "cell_type": "code",
   "execution_count": 41,
   "metadata": {},
   "outputs": [
    {
     "name": "stdout",
     "output_type": "stream",
     "text": [
      "Balance: 1000\n",
      "Balnce after withdraw:  800\n"
     ]
    }
   ],
   "source": [
    "class account:\n",
    "    def create_acc(self):\n",
    "        self.bal = int(input(\"Enter balance\"))\n",
    "        print(\"Balance:\",self.bal)\n",
    "class saving_acc(account):\n",
    "    def withdraw(self):\n",
    "        self.wa = int(input(\"How much amount you want to withdraw?\"))\n",
    "        if self.wa >0 and self.wa<=self.bal:\n",
    "            self.bal = self.bal - self.wa\n",
    "            print(\"Balnce after withdraw: \",self.bal)\n",
    "        else:\n",
    "            print(\"You dont have sufficient balance\")\n",
    "class current_acc(account):\n",
    "    def withdraw(self):\n",
    "        self.wa = int(input(\"How much amount you want to withdraw?\"))\n",
    "        if self.wa>0 and self.wa<=self.bal*0.9:\n",
    "            self.bal=self.bal - self.wa\n",
    "            print(\"Balnce after withdraw:\",self.bal)\n",
    "        else:\n",
    "            print(\"You dont have sufficient balance\")\n",
    "\n",
    "class investement_acc(account):\n",
    "    def withdraw(self):\n",
    "        self.wa=int(input(\"How much amount you want to withdraw?\"))\n",
    "        if self.wa>0 and self.wa<= self.bal -100:\n",
    "            self.bal = self.bal - self.wa\n",
    "            print(\"Balance after withdraw:\",self.bal)\n",
    "        else:\n",
    "            print(\"You dont have sufficient balance\")\n",
    "\n",
    "def withdraw(self):\n",
    "    self.wa = int(input(\"How much amount you want to withdraw?\"))\n",
    "    if self.wa>0 and self.wa<=self.bal -100:\n",
    "        self.bal = self.bal - self.wa\n",
    "        print(\"Balance after withdraw :\",self.bal)\n",
    "    else:\n",
    "        print(\"You dont have sufficient balance\")\n",
    "\n",
    "acc = int(input('''Which account you want to open? \n",
    "                Press1: saving account \n",
    "                Press2: Current Account\n",
    "                Press3: Investement account'''))\n",
    "c=current_acc()\n",
    "s=saving_acc()\n",
    "i=investement_acc()\n",
    "if acc==1:\n",
    "    s.create_acc()\n",
    "    s.withdraw()\n",
    "elif acc==2:\n",
    "    c.create_acc()\n",
    "    c.withdraw()\n",
    "elif acc ==3:\n",
    "    i.create_acc()\n",
    "    i.withdraw\n",
    "\n"
   ]
  },
  {
   "cell_type": "markdown",
   "metadata": {},
   "source": [
    "Overloading:\n",
    "\n",
    "        In Python ,if a method is written such that it can perform  more than one task ,it is called method overloading \n",
    "        When we have same function name and same behaviour but diffreent number of argument we call it as function overlaoding"
   ]
  },
  {
   "cell_type": "code",
   "execution_count": 44,
   "metadata": {},
   "outputs": [
    {
     "name": "stdout",
     "output_type": "stream",
     "text": [
      "<class 'tuple'>\n",
      "18\n",
      "<class 'tuple'>\n",
      "22\n",
      "<class 'tuple'>\n",
      "520\n"
     ]
    }
   ],
   "source": [
    "def sum(*args):\n",
    "    s=0\n",
    "    print(type(args))\n",
    "    for i in args:\n",
    "        for i in args:\n",
    "            s=i+s\n",
    "    print(s)\n",
    "sum(1,2,3)\n",
    "sum(5,6)\n",
    "sum(10,20,40,60)"
   ]
  },
  {
   "cell_type": "markdown",
   "metadata": {},
   "source": [
    "           Task : Find Salary              \n",
    "                          Employee\n",
    "\n",
    "1.Manager(Exp)       2.Developer(Exp&Per)     3.Designer(E+P+R(review))"
   ]
  },
  {
   "cell_type": "code",
   "execution_count": 48,
   "metadata": {},
   "outputs": [
    {
     "name": "stdout",
     "output_type": "stream",
     "text": [
      "Salary of developer after increment: 23000\n",
      "Salary of designer after increment: 944500\n"
     ]
    }
   ],
   "source": [
    "class emp:\n",
    "    def emp_info(self):\n",
    "        self.salary=int(input(\"What is your current salary?\"))\n",
    "class type_of_emp(emp):\n",
    "    def cal_salary(self,*args):\n",
    "        self.l=len(args)\n",
    "        if self.l ==1:\n",
    "            self.salary += self.salary*10*args[0]\n",
    "            print(\"Salary of manager after increment:\",self.salary)\n",
    "        elif self.l == 2:\n",
    "            self.salary+=self.salary*10*args[0]+500*args[1]\n",
    "            print(\"Salary of developer after increment:\",self.salary)\n",
    "        elif self.l == 3:\n",
    "            self.salary += self.salary*10*args[0]+500*args[2]\n",
    "            print(\"Salary of designer after increment:\",self.salary)\n",
    "\n",
    "t=type_of_emp()\n",
    "t.emp_info()\n",
    "\n",
    "t.cal_salary(2,4)\n",
    "t.cal_salary(4,3,3)"
   ]
  },
  {
   "cell_type": "markdown",
   "metadata": {},
   "source": [
    "Day 6 03/03/2024\n",
    "Task\n",
    "\n",
    "1. Define the problem\n",
    "\n",
    "   The problem statement asks us to develop a Python class that represnts a shopping cart.This class should allow users to add items to the cart,with varying parameters like name,quantity and price.\n",
    "\n",
    "2. Identify the Requirement\n",
    "\n",
    "   Based on the problem statement ,we need to create a class called ShoppingCart with methods for adding items .The add_items method should \n",
    "   support method oveloading , allowing users to add items with diffrent parameters combinations\n",
    "\n",
    "3. Design the Solutions:\n",
    "\n",
    "   We'll design the solutions by creating a class named ShoppingCart with methods for adding items.To implement methods oveloading ,we'll define multiple versions of the add_items method that can handle diffrent parameter combinations.\n",
    "\n",
    "4. Implement the solutionsl;\n",
    "\n",
    "    We'll start by defining the ShoppingCart class with an empty items list in the constructor(__init__).Then ,we'll implement the add_item method by overloading it to support diffreent parameters combinations.\n",
    "\n",
    "5. Test the solutions:\n",
    "    \n",
    "    After implementiong the shoppingCart class and it's method,we'll test the solutions by installing the class ,adding items to the cart using different parameters combinations , and displaying the contents of the cart to verify that method oveloading works correctly.\n",
    "\n",
    "6. Refine the soltuions (if needed) \n",
    "      If any issue during testing,we'll refine the soltuions by debugging and adjusting the implemetation as necessary to ensure that methods overloading for adding items functions correctly."
   ]
  },
  {
   "cell_type": "code",
   "execution_count": 53,
   "metadata": {},
   "outputs": [
    {
     "name": "stdout",
     "output_type": "stream",
     "text": [
      "[{'Item name': 'Maggie'}]\n",
      "[{'Item name': 'Maggie'}, {'Item name': 'Ice Cream', 'Quantity': 2, 'Price': 25}]\n"
     ]
    }
   ],
   "source": [
    "class shoppingCart:\n",
    "    def __init__(self):\n",
    "        self.item=[]\n",
    "\n",
    "    def add_items(self,*args):\n",
    "        self.l=len(args)\n",
    "        if self.l==1:\n",
    "            self.d={\"Item name\":args[0]}\n",
    "            self.item.append(self.d)\n",
    "            print(self.item)\n",
    "        elif self.l == 2:\n",
    "            self.d={\"Item name\":args[0],\"Qunatity\":args[1]}\n",
    "            print(self.item)\n",
    "        elif self.l ==3:\n",
    "            self.d={\"Item name\":args[0],\"Quantity\":args[1],\"Price\":args[2]}\n",
    "            self.item.append(self.d)\n",
    "            print(self.item)\n",
    "        else:\n",
    "            print(\"Please enter  proper input\")\n",
    "s=shoppingCart()\n",
    "s.add_items('Maggie')\n",
    "s.add_items(\"Ice Cream\",2,25)\n"
   ]
  },
  {
   "cell_type": "markdown",
   "metadata": {},
   "source": [
    "Constructor:\n",
    "\n",
    "\n",
    "          It is a special member function of a class ,we call it special beacuse constructor automatically get called when object of that\n",
    "          class is created.\n",
    "\n",
    "          We create constructor like __init__()\n",
    "\n",
    "          We use constructor to initialize the values\n",
    "\n",
    "          Here we write a code which get executed without user permission."
   ]
  },
  {
   "cell_type": "code",
   "execution_count": 54,
   "metadata": {},
   "outputs": [
    {
     "name": "stdout",
     "output_type": "stream",
     "text": [
      "Name:nisha Age:22\n"
     ]
    }
   ],
   "source": [
    "class demo:\n",
    "    def __init__(self,name,age):\n",
    "        self.name=name\n",
    "        self.age=age\n",
    "        print(f\"Name:{self.name} Age:{self.age}\")\n",
    "d= demo('nisha',22)"
   ]
  },
  {
   "cell_type": "markdown",
   "metadata": {},
   "source": [
    "1. Define the Problem:\n",
    "  The problem statement asks us to create a Python class representing a movie. This class should allow initialization with varying parameters such as title, director, genre, and release year. Additionally, we need to implement constructor overriding to handle different parameter combinations.\n",
    "2. Identify the Requirements:\n",
    "  Based on the problem statement, we need to design a class named Movie with a constructor that accepts varying parameters for initializing movie objects. The constructor should be able to handle different combinations of parameters including title, director, genre, and release year.\n",
    "3. Design the Solution:\n",
    "  We'll design the solution by creating a class named Movie with a constructor (__init__) that accepts varying parameters using constructor overriding. We'll define multiple versions of the constructor to handle different parameter combinations.\n",
    "\n",
    "4. Implement the Solution:\n",
    "  We'll start by defining the Movie class and implementing constructor overriding to handle different parameter combinations. Each version of the constructor will initialize the corresponding attributes of the movie object.\n",
    "5. Test the Solution:\n",
    "  After implementing the Movie class, we'll test the solution by creating movie objects using different parameter combinations and verifying that the objects are initialized correctly.\n",
    "6. Refine the Solution (if needed):\n",
    "  If any issues arise during testing, we'll refine the solution by debugging and adjusting the implementation as necessary to ensure that constructor overriding works correctly for initializing movie objects with varying parameters.\n",
    "\n"
   ]
  },
  {
   "cell_type": "code",
   "execution_count": 55,
   "metadata": {},
   "outputs": [
    {
     "name": "stdout",
     "output_type": "stream",
     "text": [
      "Title of movie Bahubali and Director is Raja Moli\n",
      "Title of movieKrish\n"
     ]
    }
   ],
   "source": [
    "class movie:\n",
    "    def __init__(self,*args):\n",
    "        self.l = len(args)\n",
    "        if self.l ==1:\n",
    "            self.title = args[0]\n",
    "            print(f\"Title of movie{self.title}\")\n",
    "        elif self.l ==2:\n",
    "            self.title = args[0]\n",
    "            self.director = args[1]\n",
    "            print(f\"Title of movie {self.title} and Director is {self.director}\")\n",
    "        elif self.l==3:\n",
    "            self.title=args[0]\n",
    "            self.director= args[1]\n",
    "            self.genre=args[2]\n",
    "            print(f\"Title of movie {self.title}, Director is {self.director}\")\n",
    "\n",
    "m= movie(\"Bahubali\",\"Raja Moli\")\n",
    "m1=movie('Krish')\n"
   ]
  },
  {
   "cell_type": "markdown",
   "metadata": {},
   "source": [
    "Task2\n",
    "\n",
    "Bookstore Hierarchy:\n",
    "\n",
    "Create a Python class Book with a constructor that accepts parameters like title ,author ,and price .Implement subclass such as fictionFook and NonFiction Book that inherit from Book and have their own constructor .Use \n",
    "constructor overriding to handle additional parameters specific to each genre of book.\n"
   ]
  },
  {
   "cell_type": "code",
   "execution_count": 1,
   "metadata": {},
   "outputs": [
    {
     "name": "stdout",
     "output_type": "stream",
     "text": [
      "Title:xyz Author pqr Price 120\n"
     ]
    }
   ],
   "source": [
    "class book:\n",
    "    def __init__(self,title,author,price):\n",
    "        self.title = title\n",
    "        self.author= author\n",
    "        self.price = price\n",
    "        #print(f\"Title:{self.title} Author {self.author} Price {self.price}\")\n",
    "class FictionBook(book):\n",
    "    def __init__(self,title,author,price,genre):\n",
    "        super().__init__(title,author,price)\n",
    "        self.genre = genre\n",
    "        print(f\"Title:{self.title} Author {self.author} Price {self.price}\")\n",
    "class NonFictionBook(book):\n",
    "    def __init__(self,title,author,price,story):\n",
    "        super().__init__(title,author,price)\n",
    "        self.story = story\n",
    "        print(f\"Title:{self.title} Author {self.author} Price {self.price}\")\n",
    "\n",
    "fb=FictionBook('xyz','pqr',120,'abc')\n"
   ]
  },
  {
   "cell_type": "markdown",
   "metadata": {},
   "source": [
    "Encapsulation:\n",
    "\n",
    "   It helps in organizing and controlling access to the attributes and methods of a class ,providing data hiding and abstractions."
   ]
  },
  {
   "cell_type": "code",
   "execution_count": 5,
   "metadata": {},
   "outputs": [
    {
     "data": {
      "text/plain": [
       "10"
      ]
     },
     "execution_count": 5,
     "metadata": {},
     "output_type": "execute_result"
    }
   ],
   "source": [
    "class demo:\n",
    "    a=10\n",
    "    def demo_fun(self):\n",
    "        print('demo method')\n",
    "d=demo()\n",
    "d.a"
   ]
  },
  {
   "cell_type": "code",
   "execution_count": 8,
   "metadata": {},
   "outputs": [
    {
     "ename": "AttributeError",
     "evalue": "'demo' object has no attribute '_demo__password'",
     "output_type": "error",
     "traceback": [
      "\u001b[1;31m---------------------------------------------------------------------------\u001b[0m",
      "\u001b[1;31mAttributeError\u001b[0m                            Traceback (most recent call last)",
      "Cell \u001b[1;32mIn[8], line 10\u001b[0m\n\u001b[0;32m      8\u001b[0m         \u001b[38;5;28mprint\u001b[39m(\u001b[38;5;124m\"\u001b[39m\u001b[38;5;124mdemo method\u001b[39m\u001b[38;5;124m\"\u001b[39m)\n\u001b[0;32m      9\u001b[0m         \u001b[38;5;28mprint\u001b[39m(\u001b[38;5;124m\"\u001b[39m\u001b[38;5;124mpassword\u001b[39m\u001b[38;5;124m\"\u001b[39m,\u001b[38;5;28mself\u001b[39m\u001b[38;5;241m.\u001b[39m__password)\n\u001b[1;32m---> 10\u001b[0m d\u001b[38;5;241m=\u001b[39m\u001b[43mdemo\u001b[49m\u001b[43m(\u001b[49m\u001b[43m)\u001b[49m\n",
      "Cell \u001b[1;32mIn[8], line 5\u001b[0m, in \u001b[0;36mdemo.__init__\u001b[1;34m(self)\u001b[0m\n\u001b[0;32m      4\u001b[0m \u001b[38;5;28;01mdef\u001b[39;00m \u001b[38;5;21m__init__\u001b[39m(\u001b[38;5;28mself\u001b[39m):\n\u001b[1;32m----> 5\u001b[0m     \u001b[38;5;28mprint\u001b[39m(\u001b[38;5;28;43mself\u001b[39;49m\u001b[38;5;241;43m.\u001b[39;49m\u001b[43m__password\u001b[49m)\n\u001b[0;32m      6\u001b[0m     \u001b[38;5;28mself\u001b[39m\u001b[38;5;241m.\u001b[39m__demo_fun()\n",
      "\u001b[1;31mAttributeError\u001b[0m: 'demo' object has no attribute '_demo__password'"
     ]
    }
   ],
   "source": [
    "# not working program\n",
    "class demo:\n",
    "    __username='nisha'\n",
    "    __password:'abc'\n",
    "    def __init__(self):\n",
    "        print(self.__password)\n",
    "        self.__demo_fun()\n",
    "    def __demo_fun(self):\n",
    "        print(\"demo method\")\n",
    "        print(\"password\",self.__password)\n",
    "d=demo()\n"
   ]
  },
  {
   "cell_type": "markdown",
   "metadata": {},
   "source": [
    "Types Inheritance\n",
    "Simple,Multiple,Multilevel,Hierachical Inheritance"
   ]
  },
  {
   "cell_type": "markdown",
   "metadata": {},
   "source": [
    "Pickle:\n",
    "\n",
    "     Pickle is a process allows you to save complex data structure such as list ,tuple, set,dict ,custom objects into file or other storage medium \n",
    "\n",
    "\n",
    "     Once pickled the data can be stored or transmitted across different system or platform\n",
    "\n",
    "\n",
    "Serilizing: Use to store the data with dump()\n",
    "Deserilizing: Use to read the data with load() "
   ]
  },
  {
   "cell_type": "code",
   "execution_count": 9,
   "metadata": {},
   "outputs": [],
   "source": [
    "l=['nish','nishu','nishi']\n",
    "import pickle\n",
    "with open('demo_pickle.pkl','wb') as file:\n",
    "    pickle.dump(l,file)"
   ]
  },
  {
   "cell_type": "code",
   "execution_count": 10,
   "metadata": {},
   "outputs": [
    {
     "name": "stdout",
     "output_type": "stream",
     "text": [
      "['nish', 'nishu', 'nishi']\n"
     ]
    }
   ],
   "source": [
    "with open('demo_pickle.pkl','rb') as file:\n",
    "    d=pickle.load(file)\n",
    "    print(d)"
   ]
  },
  {
   "cell_type": "code",
   "execution_count": 11,
   "metadata": {},
   "outputs": [],
   "source": [
    "with open('demo_file.txt','w') as file:\n",
    "    file.write('''Hi this is nisha\n",
    "               I am performing file Handling''')"
   ]
  },
  {
   "cell_type": "code",
   "execution_count": 15,
   "metadata": {},
   "outputs": [
    {
     "name": "stdout",
     "output_type": "stream",
     "text": [
      "Hi this is nisha\n",
      "               I am performing file Handlingthis is second time i am writing this filethis is second time i am writing this file\n"
     ]
    }
   ],
   "source": [
    "with open('demo_file.txt','r') as file:\n",
    "    t=file.read()\n",
    "    print(t)"
   ]
  },
  {
   "cell_type": "code",
   "execution_count": 14,
   "metadata": {},
   "outputs": [],
   "source": [
    "with open('demo_file.txt','a') as file:\n",
    "    file.write(\"this is second time i am writing this file\")\n",
    "   "
   ]
  },
  {
   "cell_type": "code",
   "execution_count": 16,
   "metadata": {},
   "outputs": [
    {
     "name": "stdout",
     "output_type": "stream",
     "text": [
      "2024-03-19 17:50:16.211603\n",
      "2024\n",
      "17:50:16.211603\n"
     ]
    }
   ],
   "source": [
    "from datetime import datetime\n",
    "time=datetime.now()\n",
    "year=datetime.now().year\n",
    "t=datetime.now().time()\n",
    "print(time)\n",
    "print(year)\n",
    "print(t)"
   ]
  },
  {
   "cell_type": "code",
   "execution_count": 17,
   "metadata": {},
   "outputs": [
    {
     "name": "stdout",
     "output_type": "stream",
     "text": [
      "Difference : 792\n"
     ]
    }
   ],
   "source": [
    "import datetime\n",
    "\n",
    "d1= datetime.date(2022,1,1)\n",
    "d2 = datetime.date(2024,3,3)\n",
    "diff = d2 - d1\n",
    "print(\"Difference :\",diff.days)\n"
   ]
  }
 ],
 "metadata": {
  "kernelspec": {
   "display_name": "Python 3",
   "language": "python",
   "name": "python3"
  },
  "language_info": {
   "codemirror_mode": {
    "name": "ipython",
    "version": 3
   },
   "file_extension": ".py",
   "mimetype": "text/x-python",
   "name": "python",
   "nbconvert_exporter": "python",
   "pygments_lexer": "ipython3",
   "version": "3.11.4"
  }
 },
 "nbformat": 4,
 "nbformat_minor": 2
}
