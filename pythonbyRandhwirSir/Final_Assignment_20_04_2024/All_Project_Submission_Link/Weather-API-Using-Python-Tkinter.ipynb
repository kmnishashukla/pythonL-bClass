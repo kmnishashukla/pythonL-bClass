{
 "cells": [
  {
   "cell_type": "markdown",
   "metadata": {},
   "source": [
    "Weather-API-Using-Python-Tkinter\n",
    "1.Created a Gui through which we will be able to see the interface on which different parameters of the city will be visible\n",
    "2.Used the API from the Open Weather through which we extracted the data that we wanted to show in our GUI\n",
    "3.Integrated the API with the python to showcase the results we got from searching the parameteres about the location."
   ]
  },
  {
   "cell_type": "code",
   "execution_count": 1,
   "metadata": {},
   "outputs": [
    {
     "name": "stdout",
     "output_type": "stream",
     "text": [
      "{'coord': {'lon': 77.4, 'lat': 23.2667}, 'weather': [{'id': 803, 'main': 'Clouds', 'description': 'broken clouds', 'icon': '04d'}], 'base': 'stations', 'main': {'temp': 311.28, 'feels_like': 308.34, 'temp_min': 311.28, 'temp_max': 311.28, 'pressure': 1004, 'humidity': 10, 'sea_level': 1004, 'grnd_level': 951}, 'visibility': 6000, 'wind': {'speed': 2.57, 'deg': 170}, 'clouds': {'all': 75}, 'dt': 1714303345, 'sys': {'type': 1, 'id': 9063, 'country': 'IN', 'sunrise': 1714263538, 'sunset': 1714310191}, 'timezone': 19800, 'id': 1275841, 'name': 'Bhopal', 'cod': 200}\n"
     ]
    }
   ],
   "source": [
    "import requests\n",
    "\n",
    "\n",
    "city_name=\"Bhopal\"\n",
    "data = requests.get(\"https://api.openweathermap.org/data/2.5/weather?q=\"+city_name+\"&appid=97ea69deadc2006e476c84a514d815b6\").json()\n",
    "print(data)"
   ]
  },
  {
   "cell_type": "code",
   "execution_count": 2,
   "metadata": {},
   "outputs": [],
   "source": [
    "from tkinter import *\n",
    "from tkinter import ttk\n",
    "import requests\n",
    "\n",
    "def data_get():\n",
    "    city=city_name.get() #accessing the name of city through city_name\n",
    "    data = requests.get(\"https://api.openweathermap.org/data/2.5/weather?q=\"+city+\"&appid=97ea69deadc2006e476c84a514d815b6\").json()\n",
    "    w_label1.config(text=data[\"weather\"][0][\"main\"])\n",
    "    wb_label1.config(text=data[\"weather\"][0][\"description\"])\n",
    "    temp_label1.config(text=str(int(data[\"main\"][\"temp\"]-273.15)))\n",
    "    per_label1.config(text=data[\"main\"][\"pressure\"])\n",
    "    \n",
    "\n",
    "\n",
    "\n",
    "win = Tk()\n",
    "win.title(\"API Created by nisha\")\n",
    "win.config(bg=\"light blue\")\n",
    "win.geometry(\"500x600\")\n",
    "\n",
    "name_label = Label(win,text=\"Weather Information App\",font=(\"Helvetica\",20,\"bold\"))\n",
    "name_label.place(x=25,y=40,height=50,width=450)\n",
    "\n",
    "\n",
    "\n",
    "city_name=StringVar()#getting the name of the city  in the city_name\n",
    "list_name=[\"Andhra Pradesh\",\"Arunachal Pradesh \",\"Assam\",\"Bihar\",\n",
    "\"Chhattisgarh\",\"Goa\",\"Gujarat\",\"Haryana\",\"Himachal Pradesh\",\"Jammu and Kashmir\",\n",
    "\"Jharkhand\",\"Karnataka\",\"Kerala\",\"Madhya Pradesh\",\"Maharashtra\",\"Manipur\",\n",
    "\"Meghalaya\",\"Mizoram\",\"Nagaland\",\"Odisha\",\"Punjab\",\"Rajasthan\",\"Sikkim\",\"Tamil Nadu\",\n",
    "\"Telangana\",\"Tripura\",\"Uttar Pradesh\",\"Uttarakhand\",\"West Bengal\",\n",
    "\"Andaman and Nicobar Islands\",\"Chandigarh\",\"Dadra and Nagar Haveli\",\"Daman and Diu\",\n",
    "\"Lakshadweep\",\"National Capital Territory of Delhi\",\"Puducherry\"]\n",
    "\n",
    "com = ttk.Combobox(win,text=\"Weather Information App\",values=list_name,\n",
    "                   font=(\"Helvetica\",15,\"bold\"),textvariable=city_name)\n",
    "com.place(x=25,y=110,height=50,width=450)\n",
    "\n",
    "\n",
    "done_button = Button(win,text=\"Submit\",font=(\"Helvetica\",15,\"bold\"))\n",
    "done_button.place(x=200,y=180,height=50,width=100)\n",
    "\n",
    "w_label = Label(win,text=\"Weather Climate\",font=(\"Helvetica\",15))\n",
    "w_label.place(x=25,y=250,height=50,width=210)\n",
    "w_label1 = Label(win,text=\"\",font=(\"Helvetica\",15))\n",
    "w_label1.place(x=250,y=250,height=50,width=210)\n",
    "\n",
    "wb_label = Label(win,text=\"Weather Description\",font=(\"Helvetica\",15))\n",
    "wb_label.place(x=25,y=310,height=50,width=210)\n",
    "wb_label1 = Label(win,text=\"\",font=(\"Helvetica\",15))\n",
    "wb_label1.place(x=250,y=310,height=50,width=210) #to show values from api\n",
    "\n",
    "temp_label = Label(win,text=\"Temperature\",font=(\"Helvetica\",15))\n",
    "temp_label.place(x=25,y=370,height=50,width=210)\n",
    "temp_label1 = Label(win,text=\"\",font=(\"Helvetica\",15))\n",
    "temp_label1.place(x=250,y=370,height=50,width=210)\n",
    "\n",
    "per_label = Label(win,text=\"Pressure\",font=(\"Helvetica\",15))\n",
    "per_label.place(x=25,y=430,height=50,width=210)\n",
    "per_label1 = Label(win,text=\"\",font=(\"Helvetica\",15))\n",
    "per_label1.place(x=250,y=430,height=50,width=210)\n",
    "\n",
    "done_button = Button(win,text=\"Submit\",font=(\"Helvetica\",15,\"bold\"),command=data_get)\n",
    "done_button.place(x=200,y=180,height=50,width=100)\n",
    "\n",
    "win.mainloop()"
   ]
  }
 ],
 "metadata": {
  "kernelspec": {
   "display_name": "Python 3",
   "language": "python",
   "name": "python3"
  },
  "language_info": {
   "codemirror_mode": {
    "name": "ipython",
    "version": 3
   },
   "file_extension": ".py",
   "mimetype": "text/x-python",
   "name": "python",
   "nbconvert_exporter": "python",
   "pygments_lexer": "ipython3",
   "version": "3.11.4"
  }
 },
 "nbformat": 4,
 "nbformat_minor": 2
}
