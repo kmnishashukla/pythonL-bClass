{
 "cells": [
  {
   "cell_type": "markdown",
   "metadata": {},
   "source": [
    "pip3 --version # check for pip install or not\n",
    "pip3 install --upgrade pip  # for upgrade version\n",
    "pip install --upgrade jupyter matplotlib numpy pandas scipy scikit-learn\n"
   ]
  }
 ],
 "metadata": {
  "language_info": {
   "name": "python"
  }
 },
 "nbformat": 4,
 "nbformat_minor": 2
}
