{
 "cells": [
  {
   "cell_type": "markdown",
   "metadata": {},
   "source": [
    "OpenCV:\n",
    "      OpenCV, short for Open Source Computer Vision Library, is an open-source computer vision and machine learning software library.\n",
    "\n",
    "      is a huge open-source library for computer vision, machine learning, and image processing. "
   ]
  },
  {
   "cell_type": "markdown",
   "metadata": {},
   "source": []
  }
 ],
 "metadata": {
  "language_info": {
   "name": "python"
  }
 },
 "nbformat": 4,
 "nbformat_minor": 2
}
