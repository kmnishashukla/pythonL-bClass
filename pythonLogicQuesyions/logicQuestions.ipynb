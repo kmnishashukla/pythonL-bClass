{
 "cells": [
  {
   "cell_type": "code",
   "execution_count": 1,
   "metadata": {},
   "outputs": [
    {
     "name": "stdout",
     "output_type": "stream",
     "text": [
      "<class 'dict'>\n"
     ]
    }
   ],
   "source": [
    "# Guess the output\n",
    "data = {}  # blank object work like dic\n",
    "print(type(data))"
   ]
  },
  {
   "cell_type": "code",
   "execution_count": 2,
   "metadata": {},
   "outputs": [
    {
     "name": "stdout",
     "output_type": "stream",
     "text": [
      "<class 'set'>\n"
     ]
    }
   ],
   "source": [
    "# Guess the output\n",
    "data = set()  # set () used for blank set\n",
    "print(type(data))"
   ]
  },
  {
   "cell_type": "code",
   "execution_count": 4,
   "metadata": {},
   "outputs": [
    {
     "name": "stdout",
     "output_type": "stream",
     "text": [
      "3\n",
      "3.0\n",
      "3.0\n",
      "-4\n"
     ]
    }
   ],
   "source": [
    "# Guess the output \n",
    "print(10//3)   # floor value always return integer and its lowest value given\n",
    "print(10.0//3)\n",
    "print(10//3.0)\n",
    "print(-10//3)"
   ]
  },
  {
   "cell_type": "markdown",
   "metadata": {},
   "source": [
    "print below:-\n",
    "\n",
    "\"\"\"conversion - He said ,\"Shantanu's explanation is very good\"  and I subscibed channel\"\"\""
   ]
  },
  {
   "cell_type": "code",
   "execution_count": 5,
   "metadata": {},
   "outputs": [
    {
     "name": "stdout",
     "output_type": "stream",
     "text": [
      "\"\"\" Conversion - He said,\"Shantanu's explanation is very good\" and I subscribed channel\"\"\"\n"
     ]
    }
   ],
   "source": [
    "print(\"\\\"\\\"\\\" Conversion - He said,\\\"Shantanu\\'s explanation is very good\\\" and I subscribed channel\\\"\\\"\\\"\")"
   ]
  },
  {
   "cell_type": "markdown",
   "metadata": {},
   "source": [
    "What is the ouput?:-\n",
    "print(2**3**2)"
   ]
  },
  {
   "cell_type": "code",
   "execution_count": 6,
   "metadata": {},
   "outputs": [
    {
     "name": "stdout",
     "output_type": "stream",
     "text": [
      "512\n"
     ]
    }
   ],
   "source": [
    "print(2**3**2)  # first solve 3*2 and second 2*9"
   ]
  },
  {
   "cell_type": "markdown",
   "metadata": {},
   "source": [
    "print the below statement:-\n",
    "\n",
    "\"python uses \\n for newline\""
   ]
  },
  {
   "cell_type": "code",
   "execution_count": 7,
   "metadata": {},
   "outputs": [
    {
     "name": "stdout",
     "output_type": "stream",
     "text": [
      "\"python uses \\n for newline\"\n"
     ]
    }
   ],
   "source": [
    "print('\"python uses \\\\n for newline\"')"
   ]
  },
  {
   "cell_type": "markdown",
   "metadata": {},
   "source": [
    "print below:-\n",
    "         \n",
    "         /\\/\\/\\/\\/\\/\\"
   ]
  },
  {
   "cell_type": "code",
   "execution_count": 8,
   "metadata": {},
   "outputs": [
    {
     "name": "stdout",
     "output_type": "stream",
     "text": [
      "/\\/\\/\\/\\/\\\n"
     ]
    }
   ],
   "source": [
    "print(\"/\\\\/\\\\/\\\\/\\\\/\\\\\")"
   ]
  },
  {
   "cell_type": "markdown",
   "metadata": {},
   "source": [
    "What is the output:-\n",
    "\n",
    "name = \"Shantanu\"\n",
    "print(name[2:8:-2])"
   ]
  },
  {
   "cell_type": "code",
   "execution_count": 1,
   "metadata": {},
   "outputs": [
    {
     "name": "stdout",
     "output_type": "stream",
     "text": [
      "\n"
     ]
    }
   ],
   "source": [
    "name = \"Shantanu\"   # its not return anything\n",
    "print(name[2:8:-2])"
   ]
  },
  {
   "cell_type": "code",
   "execution_count": 2,
   "metadata": {},
   "outputs": [
    {
     "name": "stdout",
     "output_type": "stream",
     "text": [
      "atn\n"
     ]
    }
   ],
   "source": [
    "name = \"Shantanu\"   # its not return anything\n",
    "print(name[2:8:2])"
   ]
  },
  {
   "cell_type": "markdown",
   "metadata": {},
   "source": [
    "What's the output for the below scenario:-\n",
    "\n",
    "my_dict = {\"jay\":89, \"viru\":81,\"jay\":52}\n",
    "print(len(my_dict))"
   ]
  },
  {
   "cell_type": "code",
   "execution_count": 3,
   "metadata": {},
   "outputs": [
    {
     "name": "stdout",
     "output_type": "stream",
     "text": [
      "2\n"
     ]
    }
   ],
   "source": [
    "my_dict = {\"jay\":89, \"viru\":81,\"jay\":52}\n",
    "print(len(my_dict))   # dic always contain uniuqe key value that's why taking 2 length"
   ]
  },
  {
   "cell_type": "markdown",
   "metadata": {},
   "source": [
    "Merge three lists:-\n",
    "          a = [1,4,7]\n",
    "          b = [2,5,8]\n",
    "          c = [3,6,9]\n",
    "          output:\n",
    "              [(1,4,7),(2,5,8),(3,6,9)]"
   ]
  },
  {
   "cell_type": "code",
   "execution_count": 4,
   "metadata": {},
   "outputs": [
    {
     "name": "stdout",
     "output_type": "stream",
     "text": [
      "[(1, 2, 3), (4, 5, 6), (7, 8, 9)]\n"
     ]
    }
   ],
   "source": [
    "a = [1,4,7]\n",
    "b = [2,5,8]\n",
    "c = [3,6,9]\n",
    "print(list(zip(a,b,c)))"
   ]
  },
  {
   "cell_type": "code",
   "execution_count": 5,
   "metadata": {},
   "outputs": [
    {
     "ename": "TypeError",
     "evalue": "'bool' object is not iterable",
     "output_type": "error",
     "traceback": [
      "\u001b[1;31m---------------------------------------------------------------------------\u001b[0m",
      "\u001b[1;31mTypeError\u001b[0m                                 Traceback (most recent call last)",
      "Cell \u001b[1;32mIn[5], line 2\u001b[0m\n\u001b[0;32m      1\u001b[0m \u001b[38;5;66;03m# Guess the output\u001b[39;00m\n\u001b[1;32m----> 2\u001b[0m \u001b[38;5;28;43;01mfor\u001b[39;49;00m\u001b[43m \u001b[49m\u001b[43mi\u001b[49m\u001b[43m \u001b[49m\u001b[38;5;129;43;01min\u001b[39;49;00m\u001b[43m \u001b[49m\u001b[38;5;241;43m765\u001b[39;49m\u001b[38;5;241;43m<\u001b[39;49m\u001b[38;5;241;43m1\u001b[39;49m\u001b[43m:\u001b[49m\n\u001b[0;32m      3\u001b[0m \u001b[43m    \u001b[49m\u001b[38;5;28;43mprint\u001b[39;49m\u001b[43m(\u001b[49m\u001b[43mi\u001b[49m\u001b[43m)\u001b[49m       \u001b[38;5;66;03m# bool object is not iterable\u001b[39;00m\n",
      "\u001b[1;31mTypeError\u001b[0m: 'bool' object is not iterable"
     ]
    }
   ],
   "source": [
    "# Guess the output\n",
    "for i in 765<1:\n",
    "    print(i)       # bool object is not iterable"
   ]
  },
  {
   "cell_type": "code",
   "execution_count": 8,
   "metadata": {},
   "outputs": [
    {
     "name": "stdout",
     "output_type": "stream",
     "text": [
      "110\n",
      "78\n",
      "False\n"
     ]
    }
   ],
   "source": [
    "name = \"nisha\"\n",
    "name1 = \"Nisha\"\n",
    "print(ord('n'))\n",
    "print(ord(\"N\"))\n",
    "print(name == name1) # o/p: false bcoz ord is different allocate in memory"
   ]
  },
  {
   "cell_type": "code",
   "execution_count": 9,
   "metadata": {},
   "outputs": [
    {
     "name": "stdout",
     "output_type": "stream",
     "text": [
      "You can vote\n"
     ]
    }
   ],
   "source": [
    "age = 20\n",
    "meassage = \"You can vote\" if (age >=18) else \"You can't vote\"\n",
    "print(meassage)"
   ]
  },
  {
   "cell_type": "markdown",
   "metadata": {},
   "source": [
    "Difference b/w List and Tuple"
   ]
  },
  {
   "cell_type": "markdown",
   "metadata": {},
   "source": [
    "1. Creation\n",
    "\n",
    "List is a comma seprated values in Square brackets and square bracket is mandatory.\n",
    "        Data = ['Jay',23,30000]\n",
    "\n",
    "\n",
    "Tuple is a comma seprated values in parenthesis and parenthesis is optional.\n",
    "        Data = (\"Jay\",23,30000)\n",
    "\n",
    "\n"
   ]
  },
  {
   "cell_type": "code",
   "execution_count": 10,
   "metadata": {},
   "outputs": [
    {
     "name": "stdout",
     "output_type": "stream",
     "text": [
      "<class 'list'>\n",
      "<class 'tuple'>\n"
     ]
    }
   ],
   "source": [
    "l=['hello',12,23.5,2+3j]\n",
    "print(type(l))\n",
    "t= 'hello',12,23.5,2+3j  # parenthesis optional not required\n",
    "print(type(t))"
   ]
  },
  {
   "cell_type": "markdown",
   "metadata": {},
   "source": [
    "2. Mutability \n",
    "     List is Mutable.\n",
    "\n",
    "     Tuple is immutable"
   ]
  },
  {
   "cell_type": "code",
   "execution_count": 12,
   "metadata": {},
   "outputs": [
    {
     "name": "stdout",
     "output_type": "stream",
     "text": [
      "['hello', 20, 23.5, (2+3j)]\n"
     ]
    },
    {
     "ename": "TypeError",
     "evalue": "'tuple' object does not support item assignment",
     "output_type": "error",
     "traceback": [
      "\u001b[1;31m---------------------------------------------------------------------------\u001b[0m",
      "\u001b[1;31mTypeError\u001b[0m                                 Traceback (most recent call last)",
      "Cell \u001b[1;32mIn[12], line 5\u001b[0m\n\u001b[0;32m      3\u001b[0m \u001b[38;5;28mprint\u001b[39m(l)\n\u001b[0;32m      4\u001b[0m t\u001b[38;5;241m=\u001b[39m \u001b[38;5;124m'\u001b[39m\u001b[38;5;124mhello\u001b[39m\u001b[38;5;124m'\u001b[39m,\u001b[38;5;241m12\u001b[39m,\u001b[38;5;241m23.5\u001b[39m,\u001b[38;5;241m2\u001b[39m\u001b[38;5;241m+\u001b[39m\u001b[38;5;241m3\u001b[39mj\n\u001b[1;32m----> 5\u001b[0m \u001b[43mt\u001b[49m\u001b[43m[\u001b[49m\u001b[38;5;241;43m2\u001b[39;49m\u001b[43m]\u001b[49m \u001b[38;5;241m=\u001b[39m \u001b[38;5;241m22\u001b[39m\n\u001b[0;32m      6\u001b[0m \u001b[38;5;28mprint\u001b[39m(t)\n",
      "\u001b[1;31mTypeError\u001b[0m: 'tuple' object does not support item assignment"
     ]
    }
   ],
   "source": [
    "l=['hello',12,23.5,2+3j]\n",
    "l[1] = 20\n",
    "print(l)\n",
    "t= 'hello',12,23.5,2+3j\n",
    "t[2] = 22\n",
    "print(t)  # tuple' object does not support item assignment bcoz its immutable"
   ]
  },
  {
   "cell_type": "markdown",
   "metadata": {},
   "source": [
    "3. Memory consumption:-\n",
    "\n",
    "      Tuple object takes less memory than object for same data\n",
    "\n",
    "      List is slow in execution than tuple\n",
    "\n",
    "      List is less efficient in memory utiliztion than tuple."
   ]
  },
  {
   "cell_type": "code",
   "execution_count": 13,
   "metadata": {},
   "outputs": [
    {
     "name": "stdout",
     "output_type": "stream",
     "text": [
      "88\n",
      "72\n"
     ]
    }
   ],
   "source": [
    "import sys\n",
    "l=['hello',12,23.5,2+3j]\n",
    "print(sys.getsizeof(l))\n",
    "t= 'hello',12,23.5,2+3j\n",
    "print(sys.getsizeof(t))"
   ]
  },
  {
   "cell_type": "markdown",
   "metadata": {},
   "source": [
    "4. Comprehension Concept\n",
    "\n",
    "Comprehension concept is applicable only for list and not for tuple.\n",
    "\n",
    "5. Packing and Unpacking\n",
    "\n",
    "List supports packing but not support unpacking.\n",
    "\n",
    "Tuple supports both packing and unpacking."
   ]
  },
  {
   "cell_type": "code",
   "execution_count": 14,
   "metadata": {},
   "outputs": [
    {
     "name": "stdout",
     "output_type": "stream",
     "text": [
      "hello\n"
     ]
    }
   ],
   "source": [
    "# a,b,c,d=['hello',12,23.5,2+3j] Unpacking not possible in list\n",
    "\n",
    "a,b,c,d= 'hello',12,23.5,2+3j # Unpacking possible in tuple\n",
    "print(a)"
   ]
  },
  {
   "cell_type": "markdown",
   "metadata": {},
   "source": [
    "Q.1\n",
    "Input :- \"Sky is blue\"\n",
    "Output:- \"Blue is sky\"\n",
    "\n",
    "Q.2\n",
    "List=[1,2,2,3,3,4,5,5,5,6,6]\n",
    "Output:- [1,4]\n",
    "\n",
    "Q.3  mystr=\"a,a,a,b,b,c,c,c\"\n",
    "Output:- a:3,b:2,c:3\n"
   ]
  },
  {
   "cell_type": "markdown",
   "metadata": {},
   "source": [
    "Q.1\n",
    "Input :- \"Sky is blue\"\n",
    "Output:- \"Blue is sky\""
   ]
  },
  {
   "cell_type": "code",
   "execution_count": 15,
   "metadata": {},
   "outputs": [
    {
     "name": "stdout",
     "output_type": "stream",
     "text": [
      "blue is Sky\n"
     ]
    }
   ],
   "source": [
    "str1 = \"Sky is blue\"\n",
    "mylist = str1.split()\n",
    "mylist= mylist[::-1]\n",
    "str2= \" \".join(mylist)\n",
    "print(str2)"
   ]
  },
  {
   "cell_type": "code",
   "execution_count": 16,
   "metadata": {},
   "outputs": [
    {
     "name": "stdout",
     "output_type": "stream",
     "text": [
      "blue is Sky\n"
     ]
    }
   ],
   "source": [
    "str1 = \"Sky is blue\"\n",
    "print(\" \".join(str1.split()[::-1]))"
   ]
  },
  {
   "cell_type": "code",
   "execution_count": 32,
   "metadata": {},
   "outputs": [
    {
     "name": "stdout",
     "output_type": "stream",
     "text": [
      "[1, 4]\n"
     ]
    }
   ],
   "source": [
    "myList=[1,2,2,3,3,4,5,5,5,6,6]\n",
    "new_list1 = []\n",
    "for num in myList:\n",
    "    if myList.count(num) == 1:\n",
    "        new_list1.append(num)\n",
    "\n",
    "print(new_list1)\n"
   ]
  },
  {
   "cell_type": "code",
   "execution_count": 33,
   "metadata": {},
   "outputs": [
    {
     "name": "stdout",
     "output_type": "stream",
     "text": [
      "[1, 4]\n"
     ]
    }
   ],
   "source": [
    "myList=[1,2,2,3,3,4,5,5,5,6,6]\n",
    "print([num for num in myList if myList.count(num)==1])"
   ]
  },
  {
   "cell_type": "code",
   "execution_count": 38,
   "metadata": {},
   "outputs": [
    {
     "name": "stdout",
     "output_type": "stream",
     "text": [
      "['a', 'a', 'a', 'b', 'b', 'c', 'c', 'c']\n",
      "a:3,b:2,c:3\n"
     ]
    }
   ],
   "source": [
    "mystr=\"a,a,a,b,b,c,c,c\"\n",
    "mylist= mystr.split(\",\")\n",
    "visited=[]\n",
    "final_list=[]\n",
    "print(mylist)\n",
    "for ch in mylist:\n",
    "    if ch not in visited:\n",
    "      final_list.append(f\"{ch}:{mylist.count(ch)}\")\n",
    "      visited.append(ch)\n",
    "print(\",\".join(final_list))"
   ]
  },
  {
   "cell_type": "markdown",
   "metadata": {},
   "source": [
    "What is Python ?\n",
    "Define Python.\n",
    "\n",
    "Ans:\n",
    "\n",
    "Python is a programming Language created by \"Guido Van Rossum\" in 1991.It is a simple,general-purpose,dynamically-typed ,high-level,object -oriented programming language.It is an interpreted language which supports multiple paradigms.i.e functional approach ,procedural approach ,OOP approach ,modular approach for writing programs.\n",
    "\n",
    "\n"
   ]
  },
  {
   "cell_type": "markdown",
   "metadata": {},
   "source": [
    "Then ,Elaborate Keywords:-\n",
    "\n",
    "Python can be used in many domains such as ML,AI , scripting ,web dev,data science,data analytics etc and that's why python is called general purpose language.\n",
    "\n",
    "Pyton interpreters data types at runtime and hence called dynamically typed language.\n",
    "\n",
    "Python supports OOP style and we can create classes and objects in python.Python is strongly object-oriented language as eveything in python is considered as an object.\n",
    "\n",
    "Python is open-source and free as we can download python from it's official website paying any penny.Python is also platform independent .Because of all those feature python is the most versatile and popular language of the 21st Century."
   ]
  }
 ],
 "metadata": {
  "kernelspec": {
   "display_name": "Python 3",
   "language": "python",
   "name": "python3"
  },
  "language_info": {
   "codemirror_mode": {
    "name": "ipython",
    "version": 3
   },
   "file_extension": ".py",
   "mimetype": "text/x-python",
   "name": "python",
   "nbconvert_exporter": "python",
   "pygments_lexer": "ipython3",
   "version": "3.11.4"
  }
 },
 "nbformat": 4,
 "nbformat_minor": 2
}
