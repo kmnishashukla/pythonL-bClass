{
 "cells": [
  {
   "cell_type": "code",
   "execution_count": 1,
   "metadata": {},
   "outputs": [
    {
     "name": "stdout",
     "output_type": "stream",
     "text": [
      "<class 'dict'>\n"
     ]
    }
   ],
   "source": [
    "# Guess the output\n",
    "data = {}  # blank object work like dic\n",
    "print(type(data))"
   ]
  },
  {
   "cell_type": "code",
   "execution_count": 2,
   "metadata": {},
   "outputs": [
    {
     "name": "stdout",
     "output_type": "stream",
     "text": [
      "<class 'set'>\n"
     ]
    }
   ],
   "source": [
    "# Guess the output\n",
    "data = set()  # set () used for blank set\n",
    "print(type(data))"
   ]
  },
  {
   "cell_type": "code",
   "execution_count": 4,
   "metadata": {},
   "outputs": [
    {
     "name": "stdout",
     "output_type": "stream",
     "text": [
      "3\n",
      "3.0\n",
      "3.0\n",
      "-4\n"
     ]
    }
   ],
   "source": [
    "# Guess the output \n",
    "print(10//3)   # floor value always return integer and its lowest value given\n",
    "print(10.0//3)\n",
    "print(10//3.0)\n",
    "print(-10//3)"
   ]
  },
  {
   "cell_type": "markdown",
   "metadata": {},
   "source": [
    "print below:-\n",
    "\n",
    "\"\"\"conversion - He said ,\"Shantanu's explanation is very good\"  and I subscibed channel\"\"\""
   ]
  },
  {
   "cell_type": "code",
   "execution_count": 5,
   "metadata": {},
   "outputs": [
    {
     "name": "stdout",
     "output_type": "stream",
     "text": [
      "\"\"\" Conversion - He said,\"Shantanu's explanation is very good\" and I subscribed channel\"\"\"\n"
     ]
    }
   ],
   "source": [
    "print(\"\\\"\\\"\\\" Conversion - He said,\\\"Shantanu\\'s explanation is very good\\\" and I subscribed channel\\\"\\\"\\\"\")"
   ]
  },
  {
   "cell_type": "markdown",
   "metadata": {},
   "source": [
    "What is the ouput?:-\n",
    "print(2**3**2)"
   ]
  },
  {
   "cell_type": "code",
   "execution_count": 6,
   "metadata": {},
   "outputs": [
    {
     "name": "stdout",
     "output_type": "stream",
     "text": [
      "512\n"
     ]
    }
   ],
   "source": [
    "print(2**3**2)  # first solve 3*2 and second 2*9"
   ]
  },
  {
   "cell_type": "markdown",
   "metadata": {},
   "source": [
    "print the below statement:-\n",
    "\n",
    "\"python uses \\n for newline\""
   ]
  },
  {
   "cell_type": "code",
   "execution_count": 7,
   "metadata": {},
   "outputs": [
    {
     "name": "stdout",
     "output_type": "stream",
     "text": [
      "\"python uses \\n for newline\"\n"
     ]
    }
   ],
   "source": [
    "print('\"python uses \\\\n for newline\"')"
   ]
  },
  {
   "cell_type": "markdown",
   "metadata": {},
   "source": [
    "print below:-\n",
    "         \n",
    "         /\\/\\/\\/\\/\\/\\"
   ]
  },
  {
   "cell_type": "code",
   "execution_count": 8,
   "metadata": {},
   "outputs": [
    {
     "name": "stdout",
     "output_type": "stream",
     "text": [
      "/\\/\\/\\/\\/\\\n"
     ]
    }
   ],
   "source": [
    "print(\"/\\\\/\\\\/\\\\/\\\\/\\\\\")"
   ]
  },
  {
   "cell_type": "markdown",
   "metadata": {},
   "source": [
    "What is the output:-\n",
    "\n",
    "name = \"Shantanu\"\n",
    "print(name[2:8:-2])"
   ]
  },
  {
   "cell_type": "code",
   "execution_count": 1,
   "metadata": {},
   "outputs": [
    {
     "name": "stdout",
     "output_type": "stream",
     "text": [
      "\n"
     ]
    }
   ],
   "source": [
    "name = \"Shantanu\"   # its not return anything\n",
    "print(name[2:8:-2])"
   ]
  },
  {
   "cell_type": "code",
   "execution_count": 2,
   "metadata": {},
   "outputs": [
    {
     "name": "stdout",
     "output_type": "stream",
     "text": [
      "atn\n"
     ]
    }
   ],
   "source": [
    "name = \"Shantanu\"   # its not return anything\n",
    "print(name[2:8:2])"
   ]
  },
  {
   "cell_type": "markdown",
   "metadata": {},
   "source": [
    "What's the output for the below scenario:-\n",
    "\n",
    "my_dict = {\"jay\":89, \"viru\":81,\"jay\":52}\n",
    "print(len(my_dict))"
   ]
  },
  {
   "cell_type": "code",
   "execution_count": 3,
   "metadata": {},
   "outputs": [
    {
     "name": "stdout",
     "output_type": "stream",
     "text": [
      "2\n"
     ]
    }
   ],
   "source": [
    "my_dict = {\"jay\":89, \"viru\":81,\"jay\":52}\n",
    "print(len(my_dict))   # dic always contain uniuqe key value that's why taking 2 length"
   ]
  },
  {
   "cell_type": "markdown",
   "metadata": {},
   "source": [
    "Merge three lists:-\n",
    "          a = [1,4,7]\n",
    "          b = [2,5,8]\n",
    "          c = [3,6,9]\n",
    "          output:\n",
    "              [(1,4,7),(2,5,8),(3,6,9)]"
   ]
  },
  {
   "cell_type": "code",
   "execution_count": 4,
   "metadata": {},
   "outputs": [
    {
     "name": "stdout",
     "output_type": "stream",
     "text": [
      "[(1, 2, 3), (4, 5, 6), (7, 8, 9)]\n"
     ]
    }
   ],
   "source": [
    "a = [1,4,7]\n",
    "b = [2,5,8]\n",
    "c = [3,6,9]\n",
    "print(list(zip(a,b,c)))"
   ]
  },
  {
   "cell_type": "code",
   "execution_count": 5,
   "metadata": {},
   "outputs": [
    {
     "ename": "TypeError",
     "evalue": "'bool' object is not iterable",
     "output_type": "error",
     "traceback": [
      "\u001b[1;31m---------------------------------------------------------------------------\u001b[0m",
      "\u001b[1;31mTypeError\u001b[0m                                 Traceback (most recent call last)",
      "Cell \u001b[1;32mIn[5], line 2\u001b[0m\n\u001b[0;32m      1\u001b[0m \u001b[38;5;66;03m# Guess the output\u001b[39;00m\n\u001b[1;32m----> 2\u001b[0m \u001b[38;5;28;43;01mfor\u001b[39;49;00m\u001b[43m \u001b[49m\u001b[43mi\u001b[49m\u001b[43m \u001b[49m\u001b[38;5;129;43;01min\u001b[39;49;00m\u001b[43m \u001b[49m\u001b[38;5;241;43m765\u001b[39;49m\u001b[38;5;241;43m<\u001b[39;49m\u001b[38;5;241;43m1\u001b[39;49m\u001b[43m:\u001b[49m\n\u001b[0;32m      3\u001b[0m \u001b[43m    \u001b[49m\u001b[38;5;28;43mprint\u001b[39;49m\u001b[43m(\u001b[49m\u001b[43mi\u001b[49m\u001b[43m)\u001b[49m       \u001b[38;5;66;03m# bool object is not iterable\u001b[39;00m\n",
      "\u001b[1;31mTypeError\u001b[0m: 'bool' object is not iterable"
     ]
    }
   ],
   "source": [
    "# Guess the output\n",
    "for i in 765<1:\n",
    "    print(i)       # bool object is not iterable"
   ]
  },
  {
   "cell_type": "code",
   "execution_count": 8,
   "metadata": {},
   "outputs": [
    {
     "name": "stdout",
     "output_type": "stream",
     "text": [
      "110\n",
      "78\n",
      "False\n"
     ]
    }
   ],
   "source": [
    "name = \"nisha\"\n",
    "name1 = \"Nisha\"\n",
    "print(ord('n'))\n",
    "print(ord(\"N\"))\n",
    "print(name == name1) # o/p: false bcoz ord is different allocate in memory"
   ]
  },
  {
   "cell_type": "code",
   "execution_count": 9,
   "metadata": {},
   "outputs": [
    {
     "name": "stdout",
     "output_type": "stream",
     "text": [
      "You can vote\n"
     ]
    }
   ],
   "source": [
    "age = 20\n",
    "meassage = \"You can vote\" if (age >=18) else \"You can't vote\"\n",
    "print(meassage)"
   ]
  },
  {
   "cell_type": "markdown",
   "metadata": {},
   "source": [
    "Difference b/w List and Tuple"
   ]
  },
  {
   "cell_type": "markdown",
   "metadata": {},
   "source": [
    "1. Creation\n",
    "\n",
    "List is a comma seprated values in Square brackets and square bracket is mandatory.\n",
    "        Data = ['Jay',23,30000]\n",
    "\n",
    "\n",
    "Tuple is a comma seprated values in parenthesis and parenthesis is optional.\n",
    "        Data = (\"Jay\",23,30000)\n",
    "\n",
    "\n"
   ]
  },
  {
   "cell_type": "code",
   "execution_count": 10,
   "metadata": {},
   "outputs": [
    {
     "name": "stdout",
     "output_type": "stream",
     "text": [
      "<class 'list'>\n",
      "<class 'tuple'>\n"
     ]
    }
   ],
   "source": [
    "l=['hello',12,23.5,2+3j]\n",
    "print(type(l))\n",
    "t= 'hello',12,23.5,2+3j  # parenthesis optional not required\n",
    "print(type(t))"
   ]
  },
  {
   "cell_type": "markdown",
   "metadata": {},
   "source": [
    "2. Mutability \n",
    "     List is Mutable.\n",
    "\n",
    "     Tuple is immutable"
   ]
  },
  {
   "cell_type": "code",
   "execution_count": 12,
   "metadata": {},
   "outputs": [
    {
     "name": "stdout",
     "output_type": "stream",
     "text": [
      "['hello', 20, 23.5, (2+3j)]\n"
     ]
    },
    {
     "ename": "TypeError",
     "evalue": "'tuple' object does not support item assignment",
     "output_type": "error",
     "traceback": [
      "\u001b[1;31m---------------------------------------------------------------------------\u001b[0m",
      "\u001b[1;31mTypeError\u001b[0m                                 Traceback (most recent call last)",
      "Cell \u001b[1;32mIn[12], line 5\u001b[0m\n\u001b[0;32m      3\u001b[0m \u001b[38;5;28mprint\u001b[39m(l)\n\u001b[0;32m      4\u001b[0m t\u001b[38;5;241m=\u001b[39m \u001b[38;5;124m'\u001b[39m\u001b[38;5;124mhello\u001b[39m\u001b[38;5;124m'\u001b[39m,\u001b[38;5;241m12\u001b[39m,\u001b[38;5;241m23.5\u001b[39m,\u001b[38;5;241m2\u001b[39m\u001b[38;5;241m+\u001b[39m\u001b[38;5;241m3\u001b[39mj\n\u001b[1;32m----> 5\u001b[0m \u001b[43mt\u001b[49m\u001b[43m[\u001b[49m\u001b[38;5;241;43m2\u001b[39;49m\u001b[43m]\u001b[49m \u001b[38;5;241m=\u001b[39m \u001b[38;5;241m22\u001b[39m\n\u001b[0;32m      6\u001b[0m \u001b[38;5;28mprint\u001b[39m(t)\n",
      "\u001b[1;31mTypeError\u001b[0m: 'tuple' object does not support item assignment"
     ]
    }
   ],
   "source": [
    "l=['hello',12,23.5,2+3j]\n",
    "l[1] = 20\n",
    "print(l)\n",
    "t= 'hello',12,23.5,2+3j\n",
    "t[2] = 22\n",
    "print(t)  # tuple' object does not support item assignment bcoz its immutable"
   ]
  },
  {
   "cell_type": "markdown",
   "metadata": {},
   "source": [
    "3. Memory consumption:-\n",
    "\n",
    "      Tuple object takes less memory than object for same data\n",
    "\n",
    "      List is slow in execution than tuple\n",
    "\n",
    "      List is less efficient in memory utiliztion than tuple."
   ]
  },
  {
   "cell_type": "code",
   "execution_count": 13,
   "metadata": {},
   "outputs": [
    {
     "name": "stdout",
     "output_type": "stream",
     "text": [
      "88\n",
      "72\n"
     ]
    }
   ],
   "source": [
    "import sys\n",
    "l=['hello',12,23.5,2+3j]\n",
    "print(sys.getsizeof(l))\n",
    "t= 'hello',12,23.5,2+3j\n",
    "print(sys.getsizeof(t))"
   ]
  },
  {
   "cell_type": "markdown",
   "metadata": {},
   "source": [
    "4. Comprehension Concept\n",
    "\n",
    "Comprehension concept is applicable only for list and not for tuple.\n",
    "\n",
    "5. Packing and Unpacking\n",
    "\n",
    "List supports packing but not support unpacking.\n",
    "\n",
    "Tuple supports both packing and unpacking."
   ]
  },
  {
   "cell_type": "code",
   "execution_count": 14,
   "metadata": {},
   "outputs": [
    {
     "name": "stdout",
     "output_type": "stream",
     "text": [
      "hello\n"
     ]
    }
   ],
   "source": [
    "# a,b,c,d=['hello',12,23.5,2+3j] Unpacking not possible in list\n",
    "\n",
    "a,b,c,d= 'hello',12,23.5,2+3j # Unpacking possible in tuple\n",
    "print(a)"
   ]
  },
  {
   "cell_type": "markdown",
   "metadata": {},
   "source": [
    "Q.1\n",
    "Input :- \"Sky is blue\"\n",
    "Output:- \"Blue is sky\"\n",
    "\n",
    "Q.2\n",
    "List=[1,2,2,3,3,4,5,5,5,6,6]\n",
    "Output:- [1,4]\n",
    "\n",
    "Q.3  mystr=\"a,a,a,b,b,c,c,c\"\n",
    "Output:- a:3,b:2,c:3\n"
   ]
  },
  {
   "cell_type": "markdown",
   "metadata": {},
   "source": [
    "Q.1\n",
    "Input :- \"Sky is blue\"\n",
    "Output:- \"Blue is sky\""
   ]
  },
  {
   "cell_type": "code",
   "execution_count": 15,
   "metadata": {},
   "outputs": [
    {
     "name": "stdout",
     "output_type": "stream",
     "text": [
      "blue is Sky\n"
     ]
    }
   ],
   "source": [
    "str1 = \"Sky is blue\"\n",
    "mylist = str1.split()\n",
    "mylist= mylist[::-1]\n",
    "str2= \" \".join(mylist)\n",
    "print(str2)"
   ]
  },
  {
   "cell_type": "code",
   "execution_count": 16,
   "metadata": {},
   "outputs": [
    {
     "name": "stdout",
     "output_type": "stream",
     "text": [
      "blue is Sky\n"
     ]
    }
   ],
   "source": [
    "str1 = \"Sky is blue\"\n",
    "print(\" \".join(str1.split()[::-1]))"
   ]
  },
  {
   "cell_type": "code",
   "execution_count": 32,
   "metadata": {},
   "outputs": [
    {
     "name": "stdout",
     "output_type": "stream",
     "text": [
      "[1, 4]\n"
     ]
    }
   ],
   "source": [
    "myList=[1,2,2,3,3,4,5,5,5,6,6]\n",
    "new_list1 = []\n",
    "for num in myList:\n",
    "    if myList.count(num) == 1:\n",
    "        new_list1.append(num)\n",
    "\n",
    "print(new_list1)\n"
   ]
  },
  {
   "cell_type": "code",
   "execution_count": 33,
   "metadata": {},
   "outputs": [
    {
     "name": "stdout",
     "output_type": "stream",
     "text": [
      "[1, 4]\n"
     ]
    }
   ],
   "source": [
    "myList=[1,2,2,3,3,4,5,5,5,6,6]\n",
    "print([num for num in myList if myList.count(num)==1])"
   ]
  },
  {
   "cell_type": "code",
   "execution_count": 38,
   "metadata": {},
   "outputs": [
    {
     "name": "stdout",
     "output_type": "stream",
     "text": [
      "['a', 'a', 'a', 'b', 'b', 'c', 'c', 'c']\n",
      "a:3,b:2,c:3\n"
     ]
    }
   ],
   "source": [
    "mystr=\"a,a,a,b,b,c,c,c\"\n",
    "mylist= mystr.split(\",\")\n",
    "visited=[]\n",
    "final_list=[]\n",
    "print(mylist)\n",
    "for ch in mylist:\n",
    "    if ch not in visited:\n",
    "      final_list.append(f\"{ch}:{mylist.count(ch)}\")\n",
    "      visited.append(ch)\n",
    "print(\",\".join(final_list))"
   ]
  },
  {
   "cell_type": "markdown",
   "metadata": {},
   "source": [
    "What is Python ?\n",
    "Define Python.\n",
    "\n",
    "Ans:\n",
    "\n",
    "Python is a programming Language created by \"Guido Van Rossum\" in 1991.It is a simple,general-purpose,dynamically-typed ,high-level,object -oriented programming language.It is an interpreted language which supports multiple paradigms.i.e functional approach ,procedural approach ,OOP approach ,modular approach for writing programs.\n",
    "\n",
    "\n"
   ]
  },
  {
   "cell_type": "markdown",
   "metadata": {},
   "source": [
    "Then ,Elaborate Keywords:-\n",
    "\n",
    "Python can be used in many domains such as ML,AI , scripting ,web dev,data science,data analytics etc and that's why python is called general purpose language.\n",
    "\n",
    "Pyton interpreters data types at runtime and hence called dynamically typed language.\n",
    "\n",
    "Python supports OOP style and we can create classes and objects in python.Python is strongly object-oriented language as eveything in python is considered as an object.\n",
    "\n",
    "Python is open-source and free as we can download python from it's official website paying any penny.Python is also platform independent .Because of all those feature python is the most versatile and popular language of the 21st Century."
   ]
  },
  {
   "cell_type": "markdown",
   "metadata": {},
   "source": [
    "How Python Works?\n",
    "\n",
    "\n",
    "1. Write source code.\n",
    "2. Complie code using python complier.\n",
    "3. Complier converts into bytecode.\n",
    "4.Computer doesn't understand bytecode.\n",
    "5.So,PVM convets bytecode into machine code using Interpreter.\n",
    "\n",
    "\n",
    "Why we need Both?\n",
    "\n",
    "1. If we use only complier ,You will have speed out not portability.\n",
    "2. If we use only Interpreter ,You will have portability but not speed.\n",
    "3. So ,using both is compromise between speed and portability\n",
    "\n",
    "Python Complier:-\n",
    "\n",
    "1. C Pyhon\n",
    "2. Jpython/ jython\n",
    "3. Ruby Python\n",
    "4. Iron Python\n",
    "5. Stackless Python\n",
    "6. Python XY\n",
    "\n",
    "Python Complied or Interpreted?\n",
    "\n",
    "1. Python is complied-interpreted Language.\n",
    "2. Python is neighter true complied not pure Interpreted.\n",
    "3. But ,Python is always referred as interpreted Language.\n",
    "\n",
    "\n"
   ]
  },
  {
   "cell_type": "markdown",
   "metadata": {},
   "source": [
    "Python Version:-\n",
    "\n",
    "Two major versions:-\n",
    "\n",
    "          1.  Python 2.0(Oct 2000)\n",
    "          2.  Python 3.0 (dec 2008)\n",
    "\n",
    "Python 2.0 is legacy while python 3.0 is present and future.\n"
   ]
  },
  {
   "cell_type": "markdown",
   "metadata": {},
   "source": [
    "1. No Backward Compatibility.\n",
    "2.  Python2 and Python3 are quite different.\n",
    "3. You can't port python3 code into python2 code."
   ]
  },
  {
   "cell_type": "markdown",
   "metadata": {},
   "source": [
    "Difference between Python2 and Python3\n",
    "\n",
    "1. Division Operator:\n",
    "       \n",
    "        Python2:- returns integer (In python2 12/3 return 4)\n",
    "        Python3:- return float (In python3 12/3 return 4.0)\n",
    "\n",
    "2. Printing :-\n",
    "          Python2:- print is statement (In python2 print \"Hello\")\n",
    "          Python3:- print is function (In python3 print(\"Hello\"))\n",
    "\n",
    "3. Input:-\n",
    "         Python2:- both input() and raw_input() functions.\n",
    "         Python3:- only input() function.\n",
    "\n",
    "4. Iteration:-\n",
    "         Python2:- range() and xrange() functions.\n",
    "         Python3:- Only range() function.\n",
    "\n",
    "5. Way of storing characters:-\n",
    "        Python2:- stores in ASCII.\n",
    "        Python3:- Stores in unicode value.\n",
    "        \n"
   ]
  },
  {
   "cell_type": "markdown",
   "metadata": {},
   "source": [
    "Constants in Python\n",
    "\n",
    "\n",
    "Generally ,we define constants as something that doesn't changes and variable as something that keep changing.\n",
    "\n",
    "But what about Python?\n",
    "\n",
    "Imp:- Python has no concept of constants , the way it exist in C and Java.\n",
    "      We can't define/create constants in python.\n",
    "\n",
    "But,what if we need constant?\n",
    "\n",
    "We can take feel of constants by declaring them in capital letters.But\n",
    ",we can change their value.\n",
    "\n",
    "Ex... PI = 3.14159\n"
   ]
  },
  {
   "cell_type": "code",
   "execution_count": 1,
   "metadata": {},
   "outputs": [
    {
     "name": "stdout",
     "output_type": "stream",
     "text": [
      "36.2984\n"
     ]
    }
   ],
   "source": [
    "#program for area of circle\n",
    "\n",
    "PI = 3.14\n",
    "r = 3.4\n",
    "area_of_circle = PI*r*r\n",
    "print(area_of_circle)"
   ]
  },
  {
   "cell_type": "markdown",
   "metadata": {},
   "source": [
    "Q. What is difference between 'is' operator and '==' operator in Python?\n",
    "\n",
    "1. is\n",
    "      It is identify operator.\n",
    "    ==\n",
    "      It's comparison operator.\n",
    "\n",
    "2. is\n",
    "     checks memory refrence/memory address of two objects.\n",
    "     True :- If two objects have same identify number.\n",
    "  == \n",
    "     Checks actual contents/values of two objects.\n",
    "     True:- If two objects have some content.\n"
   ]
  },
  {
   "cell_type": "code",
   "execution_count": 1,
   "metadata": {},
   "outputs": [
    {
     "name": "stdout",
     "output_type": "stream",
     "text": [
      "140705206297672\n",
      "140705206297672\n",
      "True\n",
      "True\n"
     ]
    }
   ],
   "source": [
    "a=10\n",
    "print(id(a))\n",
    "b =10\n",
    "print(id(10))\n",
    "print(a is b) # its check memory address\n",
    "print(a ==b)  # its check content and values"
   ]
  },
  {
   "cell_type": "code",
   "execution_count": 2,
   "metadata": {},
   "outputs": [
    {
     "name": "stdout",
     "output_type": "stream",
     "text": [
      "1617346026112\n",
      "1617346025344\n",
      "False\n",
      "True\n"
     ]
    }
   ],
   "source": [
    "l1 = [10,20,30]\n",
    "l2 = [10,20,30]\n",
    "print(id(l1))\n",
    "print(id(l2))\n",
    "print(l1 is l2)\n",
    "print(l1==l2)"
   ]
  },
  {
   "cell_type": "markdown",
   "metadata": {},
   "source": [
    "Maximum and Minimum by Manual Programming Python\n"
   ]
  },
  {
   "cell_type": "code",
   "execution_count": 6,
   "metadata": {},
   "outputs": [
    {
     "name": "stdout",
     "output_type": "stream",
     "text": [
      "minimum value is: 21\n"
     ]
    }
   ],
   "source": [
    "# finding minium and maxium number from a list\n",
    "nums = [45,78,46,98,66,53,21,63,87,89,91]\n",
    "min1 = nums[0]\n",
    "for ele in nums:\n",
    "    if ele < min1:\n",
    "        min1=ele\n",
    "\n",
    "print(\"minimum value is:\",min1)\n",
    "    "
   ]
  },
  {
   "cell_type": "markdown",
   "metadata": {},
   "source": [
    "List in Python|extend() Method in Python List"
   ]
  },
  {
   "cell_type": "code",
   "execution_count": 7,
   "metadata": {},
   "outputs": [
    {
     "name": "stdout",
     "output_type": "stream",
     "text": [
      "['marathi', 'hindi', 'gujrati', 'urdu', 'english', 'french', 'japanese']\n"
     ]
    }
   ],
   "source": [
    "lang1 = ['marathi','hindi','gujrati','urdu']\n",
    "lang2 = ['english','french','japanese']\n",
    "for l in lang2:\n",
    "    lang1.append(l)\n",
    "print(lang1)"
   ]
  },
  {
   "cell_type": "markdown",
   "metadata": {},
   "source": [
    "               Python list extend():-\n",
    "\n",
    "The append() method extends list by appending all items  from iterable.Iterable can be list ,tuple,set etc.\n",
    "\n",
    "    Syntax:\n",
    "          list1.extend(iterable)\n",
    "\n",
    "This method does not return any value rather modifies the list.Means ,it returns 'None'.\n"
   ]
  },
  {
   "cell_type": "code",
   "execution_count": 10,
   "metadata": {},
   "outputs": [
    {
     "name": "stdout",
     "output_type": "stream",
     "text": [
      "['marathi', 'hindi', 'gujrati', 'urdu', 'english', 'french', 'japanese']\n"
     ]
    }
   ],
   "source": [
    "lang1 = ['marathi','hindi','gujrati','urdu']\n",
    "lang2 = ['english','french','japanese']\n",
    "lang1.extend(lang2)\n",
    "print(lang1)"
   ]
  },
  {
   "cell_type": "markdown",
   "metadata": {},
   "source": [
    "List Comprehension in Python"
   ]
  },
  {
   "cell_type": "markdown",
   "metadata": {},
   "source": [
    "What is Comprehension?\n",
    "\n",
    "It is a way of writing compact code in Python.\n",
    "\n",
    "lst = []\n",
    "for i in range(1,4):\n",
    "     for j in range(5,7):\n",
    "     lst.append(i*j)\n",
    "print(lst)"
   ]
  },
  {
   "cell_type": "code",
   "execution_count": 1,
   "metadata": {},
   "outputs": [
    {
     "name": "stdout",
     "output_type": "stream",
     "text": [
      "[5, 10, 15, 6, 12, 18]\n"
     ]
    }
   ],
   "source": [
    "print([i*j for j in range(5,7) for i in range(1,4)])"
   ]
  },
  {
   "cell_type": "markdown",
   "metadata": {},
   "source": [
    "Types of comprehension:-\n",
    "\n",
    "1. List comprehension\n",
    "2. Set comprehension\n",
    "3. Dictionary comprehension"
   ]
  },
  {
   "cell_type": "markdown",
   "metadata": {},
   "source": [
    "What is List comprehension?\n",
    "\n",
    "Syntax-01:- Normal\n",
    "     [expression for variable in iterable]\n",
    "\n",
    "Syntax-02:- If condition\n",
    "     [Expression for variable in iterable if cond]\n",
    "\n",
    "Syntax-03:- Nested If's\n",
    "     [expression for varibale if cond1 if cond2]\n",
    "\n",
    "Synatx-04:- If-else\n",
    "    [expression if cond else expression for variable in iterable]"
   ]
  },
  {
   "cell_type": "code",
   "execution_count": 2,
   "metadata": {},
   "outputs": [
    {
     "name": "stdout",
     "output_type": "stream",
     "text": [
      "[9, 36, 64, 144, 196, 225]\n"
     ]
    }
   ],
   "source": [
    "#syntax-01:- [expression for varibale in iterable]\n",
    "nums = [3,6,8,12,14,15]\n",
    "sq=[]\n",
    "for num in nums:\n",
    "    sq.append(num*num)\n",
    "print(sq)"
   ]
  },
  {
   "cell_type": "code",
   "execution_count": 5,
   "metadata": {},
   "outputs": [
    {
     "name": "stdout",
     "output_type": "stream",
     "text": [
      "[36, 144]\n"
     ]
    }
   ],
   "source": [
    "#syntax-01:- [expression for varibale in iterable]\n",
    "nums = [3,6,8,12,14,15]\n",
    "sq=[]\n",
    "for num in nums:\n",
    "    if num%2==0:\n",
    "        if num%3==0:\n",
    "          sq.append(num*num)\n",
    "print(sq)"
   ]
  },
  {
   "cell_type": "code",
   "execution_count": 6,
   "metadata": {},
   "outputs": [
    {
     "name": "stdout",
     "output_type": "stream",
     "text": [
      "[36, 144]\n"
     ]
    }
   ],
   "source": [
    "#using list comprehension\n",
    "print([num*num for num in nums if num%2==0 if num%3==0])"
   ]
  },
  {
   "cell_type": "code",
   "execution_count": 1,
   "metadata": {},
   "outputs": [
    {
     "name": "stdout",
     "output_type": "stream",
     "text": [
      "[27, 36, 64, 144, 196, 3375]\n",
      "[27, 36, 64, 144, 196, 3375]\n"
     ]
    }
   ],
   "source": [
    "#syntax -04: [expression if cond else expresssion for var in iterable]\n",
    "nums = [3,6,8,12,14,15]\n",
    "result = []\n",
    "for num in nums:\n",
    "    if num%2==0:\n",
    "        result.append(num*num)\n",
    "    else:\n",
    "        result.append(num*num*num)\n",
    "print(result)\n",
    "\n",
    "#using list comprehension\n",
    "print([num*num if num%2==0 else num*num*num for num in nums])\n"
   ]
  },
  {
   "cell_type": "code",
   "execution_count": 3,
   "metadata": {},
   "outputs": [
    {
     "name": "stdout",
     "output_type": "stream",
     "text": [
      "[15, 18, 20, 24, 25, 30]\n",
      "[15, 18, 20, 24, 25, 30]\n"
     ]
    }
   ],
   "source": [
    "#syntax -05:- [expression if cond else expression for var in iterable]\n",
    "lst = []\n",
    "for i in range(3,6):\n",
    "    for j in range(5,7):\n",
    "        lst.append(i*j)\n",
    "print(lst)\n",
    "\n",
    "#using list comp\n",
    "\n",
    "print([i*j for i in range(3,6) for j in range(5,7)])"
   ]
  },
  {
   "cell_type": "markdown",
   "metadata": {},
   "source": [
    "Advantages:-\n",
    "\n",
    "Compact and elegent code\n",
    "Less code\n",
    "Fater execution"
   ]
  },
  {
   "cell_type": "markdown",
   "metadata": {},
   "source": [
    "Docstring in Python"
   ]
  },
  {
   "cell_type": "markdown",
   "metadata": {},
   "source": [
    "What is docstring?\n",
    "\n",
    "It is a string literal that appear right after the definition of function ,class ,module"
   ]
  },
  {
   "cell_type": "code",
   "execution_count": 4,
   "metadata": {},
   "outputs": [
    {
     "name": "stdout",
     "output_type": "stream",
     "text": [
      "this is my function\n"
     ]
    }
   ],
   "source": [
    "def add(n1,n2):\n",
    "    \"\"\"this is my function\"\"\"\n",
    "    return n1 + n2\n",
    "print(add.__doc__)"
   ]
  },
  {
   "cell_type": "markdown",
   "metadata": {},
   "source": [
    "Docstrings and purpose\n",
    "\n",
    "1. Function:- arguments and return values\n",
    "2. Class:- Attributes and methods\n",
    "3. Modules:- List of classes and functions\n",
    "4. Package:- List of modules with functionality "
   ]
  },
  {
   "cell_type": "code",
   "execution_count": 5,
   "metadata": {},
   "outputs": [
    {
     "name": "stdout",
     "output_type": "stream",
     "text": [
      "\n",
      "        Add two numbers and return the result.\n",
      "        arguments:- \n",
      "                n1:- decimal integer.\n",
      "                n2:- decimal integer.\n",
      "        return :-  decimal addition\n",
      "    \n"
     ]
    }
   ],
   "source": [
    "def add(n1,n2):\n",
    "    \"\"\"\n",
    "        Add two numbers and return the result.\n",
    "        arguments:- \n",
    "                n1:- decimal integer.\n",
    "                n2:- decimal integer.\n",
    "        return :-  decimal addition\n",
    "    \"\"\"\n",
    "    return n1+n2\n",
    "print(add.__doc__)"
   ]
  },
  {
   "cell_type": "code",
   "execution_count": 6,
   "metadata": {},
   "outputs": [
    {
     "name": "stdout",
     "output_type": "stream",
     "text": [
      "Help on function add in module __main__:\n",
      "\n",
      "add(n1, n2)\n",
      "    Add two numbers and return the result.\n",
      "    arguments:- \n",
      "            n1:- decimal integer.\n",
      "            n2:- decimal integer.\n",
      "    return :-  decimal addition\n",
      "\n"
     ]
    }
   ],
   "source": [
    "help(add)"
   ]
  },
  {
   "cell_type": "code",
   "execution_count": 7,
   "metadata": {},
   "outputs": [
    {
     "name": "stdout",
     "output_type": "stream",
     "text": [
      "Ellipsis\n"
     ]
    }
   ],
   "source": [
    "print(...)"
   ]
  },
  {
   "cell_type": "code",
   "execution_count": 8,
   "metadata": {},
   "outputs": [
    {
     "data": {
      "text/plain": [
       "'Prints the values to a stream, or to sys.stdout by default.\\n\\n  sep\\n    string inserted between values, default a space.\\n  end\\n    string appended after the last value, default a newline.\\n  file\\n    a file-like object (stream); defaults to the current sys.stdout.\\n  flush\\n    whether to forcibly flush the stream.'"
      ]
     },
     "execution_count": 8,
     "metadata": {},
     "output_type": "execute_result"
    }
   ],
   "source": [
    "print.__doc__"
   ]
  },
  {
   "cell_type": "markdown",
   "metadata": {},
   "source": [
    "What is difference between comments and docsdtrings\n",
    "\n",
    "1. Comments are ignore interpreter.But docstring are not ignore.\n",
    "2. Memory is allocated for Docstrings.\n",
    "3. Comment :- description of code\n",
    "   docsdtring:- purpose of code."
   ]
  },
  {
   "cell_type": "code",
   "execution_count": 10,
   "metadata": {},
   "outputs": [
    {
     "name": "stdout",
     "output_type": "stream",
     "text": [
      "vijay --> 1400\n"
     ]
    }
   ],
   "source": [
    "# print last value in dic bcoz indexing and slicing direct not apply on dictionary\n",
    "student = {'ajay':1000,'raj':12000,'vijay':1400}\n",
    "keys_list = list(student.keys())\n",
    "print(keys_list[-1],\"-->\", student[keys_list[-1]])"
   ]
  },
  {
   "cell_type": "markdown",
   "metadata": {},
   "source": [
    "Join Method in Python\n"
   ]
  }
 ],
 "metadata": {
  "kernelspec": {
   "display_name": "Python 3",
   "language": "python",
   "name": "python3"
  },
  "language_info": {
   "codemirror_mode": {
    "name": "ipython",
    "version": 3
   },
   "file_extension": ".py",
   "mimetype": "text/x-python",
   "name": "python",
   "nbconvert_exporter": "python",
   "pygments_lexer": "ipython3",
   "version": "3.11.4"
  }
 },
 "nbformat": 4,
 "nbformat_minor": 2
}
